{
 "cells": [
  {
   "cell_type": "code",
   "execution_count": null,
   "id": "97348b69",
   "metadata": {
    "id": "97348b69"
   },
   "outputs": [],
   "source": [
    "import pandas as pd\n",
    "import os\n",
    "import json\n",
    "import re\n",
    "from datasets import Dataset\n",
    "from torch.utils.data import DataLoader\n",
    "\n",
    "os.environ['WANDB_SILENT']=\"true\"\n",
    "os.environ[\"WANDB_DISABLED\"] = \"true\""
   ]
  },
  {
   "cell_type": "code",
   "execution_count": null,
   "id": "ff8d5146",
   "metadata": {
    "id": "ff8d5146"
   },
   "outputs": [],
   "source": [
    "from datasets import load_from_disk\n",
    "train = load_from_disk('./Dataset/train')"
   ]
  },
  {
   "cell_type": "code",
   "execution_count": null,
   "id": "193f1397",
   "metadata": {
    "id": "193f1397"
   },
   "outputs": [],
   "source": [
    "df = pd.DataFrame(train)"
   ]
  },
  {
   "cell_type": "code",
   "execution_count": null,
   "id": "4bb42962",
   "metadata": {
    "id": "4bb42962",
    "outputId": "9059829e-ab17-4b13-93b4-a6abda157cd1"
   },
   "outputs": [
    {
     "data": {
      "text/plain": [
       "(21157, 6)"
      ]
     },
     "execution_count": 4,
     "metadata": {},
     "output_type": "execute_result"
    }
   ],
   "source": [
    "df.shape"
   ]
  },
  {
   "cell_type": "code",
   "execution_count": null,
   "id": "5290f823",
   "metadata": {
    "id": "5290f823"
   },
   "outputs": [],
   "source": [
    "def check_calculation(item, target_string):\n",
    "    # Create a mask to identify rows where the target_string occurs as a standalone word\n",
    "\n",
    "    pattern = rf'\\b{re.escape(target_string)}\\b(?![^(]*\\))'\n",
    "\n",
    "\n",
    "    if target_string in item['calculation'] and len(re.findall(r'\\(',item['calculation']))==1:\n",
    "        if target_string=='Subtract' and 'Year' in item['masked headline']:\n",
    "            return True\n",
    "        elif target_string=='Subtract' and 'Year' not in item['masked headline']:\n",
    "            return False\n",
    "        else:\n",
    "            return True\n",
    "\n",
    "\n",
    "    return False\n",
    "\n",
    "def get_ans_sent(item):\n",
    "\n",
    "    operations = {\"Copy\":get_copy_placeholder,\"Trans\":get_trans_placeholder,\n",
    "                  \"Span\":get_span_placeholder,\"Round\":get_round_placeholder,\"Paraphrase\":get_paraphrase_placeholder,\n",
    "                  \"Subtract\":get_subtract_placeholder, \"SRound\":get_round_placeholder}\n",
    "\n",
    "    for operation, function in operations.items():\n",
    "\n",
    "        if check_calculation(item,operation):\n",
    "\n",
    "            return function(item)\n",
    "\n",
    "    return f\"So the answer is {item['ans']}\""
   ]
  },
  {
   "cell_type": "code",
   "execution_count": null,
   "id": "bd36cc3f",
   "metadata": {
    "id": "bd36cc3f"
   },
   "outputs": [],
   "source": [
    "\n",
    "def filter_unique_string(df, target_string):\n",
    "    # Create a mask to identify rows where the target_string occurs as a standalone word\n",
    "\n",
    "    pattern = rf'\\b{re.escape(target_string)}\\b(?![^(]*\\))'\n",
    "\n",
    "    # Create a mask to identify rows where the target_string meets the pattern conditions\n",
    "    mask = df['calculation'].apply(lambda x: True if target_string in x and len(re.findall(r'\\(',x))==1 else False)\n",
    "\n",
    "    # Filter the DataFrame with rows where the target_string is a standalone word\n",
    "    filtered_df = df[mask]\n",
    "\n",
    "    return filtered_df"
   ]
  },
  {
   "cell_type": "code",
   "execution_count": null,
   "id": "90cfb61d",
   "metadata": {
    "id": "90cfb61d"
   },
   "outputs": [],
   "source": [
    "def date_to_sentence(month, day, year):\n",
    "    # Define a dictionary to map month abbreviations to full month names.\n",
    "    month_mapping = {\n",
    "        \"Jan\": \"January\",\n",
    "        \"Feb\": \"February\",\n",
    "        \"Mar\": \"March\",\n",
    "        \"Apr\": \"April\",\n",
    "        \"May\": \"May\",\n",
    "        \"Jun\": \"June\",\n",
    "        \"Jul\": \"July\",\n",
    "        \"Aug\": \"August\",\n",
    "        \"Sep\": \"September\",\n",
    "        \"Oct\": \"October\",\n",
    "        \"Nov\": \"November\",\n",
    "        \"Dec\": \"December\"\n",
    "    }\n",
    "\n",
    "    month = re.sub(r'[^a-zA-Z]+', '', month)\n",
    "    day = int(re.sub(r'[^0-9]+', '', day))\n",
    "    year = int(re.sub(r'[^0-9]+', '', year))\n",
    "\n",
    "    # Get the full month name from the abbreviation.\n",
    "    full_month = month_mapping.get(month, month)\n",
    "\n",
    "    # Determine the appropriate day suffix.\n",
    "    if 11 <= day <= 13:\n",
    "        day_suffix = \"th\"\n",
    "    else:\n",
    "        day_suffix = {1: \"st\", 2: \"nd\", 3: \"rd\"}.get(day % 10, \"th\")\n",
    "\n",
    "    # Create the placeholder sentence.\n",
    "    sentence = f\"The news was published on {day}{day_suffix} {full_month} in the year of {year}.\"\n",
    "\n",
    "    return sentence\n",
    "\n"
   ]
  },
  {
   "cell_type": "code",
   "execution_count": null,
   "id": "9ef95022",
   "metadata": {
    "id": "9ef95022"
   },
   "outputs": [],
   "source": [
    "def convert_timestamp(news):\n",
    "\n",
    "    try:\n",
    "        timestamp = re.findall(r'\\([^)]*\\)',news)[0]\n",
    "        month,day,year = timestamp.split()[:3]\n",
    "\n",
    "        return date_to_sentence(month, day, year)\n",
    "\n",
    "    except Exception as e:\n",
    "\n",
    "        return \"\"\n",
    "\n",
    "\n"
   ]
  },
  {
   "cell_type": "code",
   "execution_count": null,
   "id": "3a620247",
   "metadata": {
    "id": "3a620247"
   },
   "outputs": [],
   "source": [
    "def prepare_input(item):\n",
    "\n",
    "    try:\n",
    "        replace = f\"{item['published']} News:\"\n",
    "        news_with_time = re.sub(r'\\([^)]*\\)',replace,item['news'])\n",
    "\n",
    "        Input = f\"{news_with_time} Fill in the blank: {item['masked headline']}\"\n",
    "\n",
    "        return Input\n",
    "\n",
    "    except Exception as e:\n",
    "\n",
    "        return \"\"\n",
    "\n"
   ]
  },
  {
   "cell_type": "code",
   "execution_count": null,
   "id": "b461a857",
   "metadata": {
    "id": "b461a857"
   },
   "outputs": [],
   "source": [
    "import re\n",
    "def find_ans(news, ans):\n",
    "\n",
    "    news = news.replace(\"Sept.\", \"Sept\")\n",
    "    ans = ans.replace(\"Sept.\", \"Sept\")\n",
    "    sentence_pattern = r'(?<=[.!?]) +'\n",
    "\n",
    "    # Use the re.split function to split the paragraph into sentences.\n",
    "    sentences = re.split(sentence_pattern, news)\n",
    "\n",
    "\n",
    "\n",
    "    for sent in sentences:\n",
    "        if ans.lower() in sent.lower():\n",
    "            return sent\n",
    "\n",
    "    return None\n"
   ]
  },
  {
   "cell_type": "code",
   "execution_count": null,
   "id": "03776731",
   "metadata": {
    "id": "03776731"
   },
   "outputs": [],
   "source": [
    "def get_copy_placeholder(item):\n",
    "\n",
    "    sent = find_ans(item['news'], item['ans'])\n",
    "\n",
    "    if sent is not None:\n",
    "\n",
    "        sent = re.sub(r'\\([^)]*\\)','',sent).strip()\n",
    "        return f\"The answer can be found in the sentence: '{sent}'. so the answer is {item['ans']}\"\n",
    "\n",
    "\n",
    "    else: return None"
   ]
  },
  {
   "cell_type": "code",
   "execution_count": null,
   "id": "e800b739",
   "metadata": {
    "id": "e800b739"
   },
   "outputs": [],
   "source": [
    "def get_trans_placeholder(item):\n",
    "\n",
    "    try:\n",
    "\n",
    "\n",
    "        calculation = item.calculation\n",
    "\n",
    "        ans = calculation.split('(')[1].replace(\")\",\"\")\n",
    "\n",
    "        sent = find_ans(item['news'],ans)\n",
    "\n",
    "\n",
    "        if sent is not None:\n",
    "\n",
    "            sent = re.sub(r'\\([^)]*\\)','',sent).strip()\n",
    "            return f\"The answer can be found in the sentence: '{sent}'. However, the answer is not in numerical form, hence '{ans}' is converted into its equivalent numerical form {item['ans']}. so the answer is {item['ans']}\"\n",
    "\n",
    "\n",
    "        else: return None\n",
    "\n",
    "    except:\n",
    "        print(item.calculation)"
   ]
  },
  {
   "cell_type": "code",
   "execution_count": null,
   "id": "0b79aba4",
   "metadata": {
    "id": "0b79aba4"
   },
   "outputs": [],
   "source": [
    "def get_paraphrase_placeholder(item):\n",
    "\n",
    "    try:\n",
    "\n",
    "        calculation = re.findall(r'\\([^)]*\\)',item['calculation'])[0]\n",
    "\n",
    "\n",
    "        pattern = r'\\b\\d{1,3}(,\\d{3})*\\b'\n",
    "\n",
    "        ans = [match.group() for match in re.finditer(pattern, calculation)]\n",
    "        if len(ans)>0:\n",
    "            ans = ans[0]\n",
    "        elif \",\" in calculation:\n",
    "            ans = calculation.split(\",\")[0].replace(\"(\",\"\")\n",
    "        else:\n",
    "            ans = calculation.replace(\"(\",\"\")\n",
    "            ans = ans.replace(\")\",\"\")\n",
    "\n",
    "\n",
    "        sent = find_ans(item['news'],ans)\n",
    "\n",
    "        ans_num = int(ans.replace(',',\"\"))\n",
    "\n",
    "        if sent is not None:\n",
    "\n",
    "            sent = re.sub(r'\\([^)]*\\)','',sent).strip()\n",
    "            return f\"The actual answer can be found in the sentence: '{sent}'. However, the answer is paraphrased  which is common for large numbers. The number: '{ans}' is paraphrased to '{item['ans']}K' after dividing {ans_num} by 1000. So the answer is {item['ans']}\"\n",
    "\n",
    "\n",
    "        else: return None\n",
    "\n",
    "    except:\n",
    "        print(item.calculation)"
   ]
  },
  {
   "cell_type": "code",
   "execution_count": null,
   "id": "4e1a7f9a",
   "metadata": {
    "id": "4e1a7f9a"
   },
   "outputs": [],
   "source": [
    "def get_round_placeholder(item):\n",
    "\n",
    "    try:\n",
    "\n",
    "        calculation = re.findall(r'\\([^)]*\\)',item['calculation'])[0]\n",
    "\n",
    "        ans = calculation.split(\",\")[0].replace(\"(\",\"\")\n",
    "\n",
    "\n",
    "        sent = find_ans(item['news'],ans)\n",
    "\n",
    "        ans_num = float(ans.replace(',',\"\"))\n",
    "\n",
    "#         print(sent,ans)\n",
    "\n",
    "        if sent is not None:\n",
    "\n",
    "            sent = re.sub(r'\\([^)]*\\)','',sent).strip()\n",
    "            return f\"The actual answer can be found in the sentence: '{sent}'. However, the answer is rounded which is a common way of representing floating numbers in headlines or summaries. The number: '{ans}' is rounded to '{item['ans']}' which is the nearest integer or floating number to the original number {ans}. So the answer is {item['ans']}\"\n",
    "\n",
    "\n",
    "        else: return None\n",
    "\n",
    "    except:\n",
    "        print(item.calculation, item['ans'])"
   ]
  },
  {
   "cell_type": "code",
   "execution_count": null,
   "id": "af5cffdd",
   "metadata": {
    "id": "af5cffdd"
   },
   "outputs": [],
   "source": [
    "def get_span_placeholder(item):\n",
    "\n",
    "#     try:\n",
    "\n",
    "    calculation = re.findall(r'\\([^)]*\\)',item['calculation'])[0]\n",
    "\n",
    "    ans = calculation.replace(\"(\",\"\")\n",
    "    ans = ans.replace(\")\",\"\")\n",
    "\n",
    "    if item['ans'] !=\"1\":\n",
    "        return None\n",
    "\n",
    "\n",
    "    sent = find_ans(item['news'],ans)\n",
    "\n",
    "    if \"No.\" in item['masked headline'] and sent is not None:\n",
    "        sent = re.sub(r'\\([^)]*\\)','',sent).strip()\n",
    "        return f\"No. 1 typically refers to the topmost or the best-ranked item in a list or a competition. The presence of 'No.' in the headline gives a clue that the answer is 1 which is supported by '{ans}' from the sentence '{sent}'. So the answer is {item['ans']}\"\n",
    "\n",
    "    if \"M\" in item['masked headline'] and sent is not None:\n",
    "        sent = re.sub(r'\\([^)]*\\)','',sent).strip()\n",
    "        return f\"M often stand for million. The letter 'M' in the headline indicates that the answer refers an amount and '{ans}' can be transformed to {item['ans']} million. So the answer is {item['ans']}\"\n",
    "\n",
    "    if \"st\" in item['masked headline'] and sent is not None:\n",
    "        sent = re.sub(r'\\([^)]*\\)','',sent).strip()\n",
    "        return f\"1st typically refers to the topmost or the best-ranked item in a list or a competition. The presence of 'st' in the headline gives a clue that the answer is  1 which is supported by '{ans}' from the sentence '{sent}'. So the answer is {item['ans']}\"\n",
    "\n",
    "    if sent is not None:\n",
    "\n",
    "        sent = re.sub(r'\\([^)]*\\)','',sent).strip()\n",
    "        return f\"The clue for the answer can be found in the sentence: '{sent}' where '{ans}' can refer to a person, an object, or an event. So the answer is {item['ans']}\"\n",
    "\n",
    "\n",
    "    else: return None\n",
    "\n",
    "#     except:\n",
    "#         print(item.calculation)"
   ]
  },
  {
   "cell_type": "code",
   "execution_count": null,
   "id": "35ec0f69",
   "metadata": {
    "id": "35ec0f69"
   },
   "outputs": [],
   "source": [
    "def get_subtract_placeholder(item):\n",
    "\n",
    "    try:\n",
    "        calculation = re.findall(r'\\([^)]*\\)',item['calculation'])[0]\n",
    "\n",
    "        year_a = calculation.split(',')[0].replace(\"(\",\"\")\n",
    "        year_b = calculation.split(',')[1].replace(\")\",\"\")\n",
    "\n",
    "        if year_a in item['published'] and year_b in item['news']:\n",
    "             return f\"The news published in the year {year_a} and the event mentioned in the news happened in the year {year_b}, so the year mentioned in the headline comes from a subtraction of {year_a}-{year_b} = {int(year_a)-int(year_b)}. so the answer is {item['ans']}\"\n",
    "\n",
    "        else: return None\n",
    "    except:\n",
    "        print(item.calculation)"
   ]
  },
  {
   "cell_type": "code",
   "execution_count": null,
   "id": "9901f139",
   "metadata": {
    "id": "9901f139"
   },
   "outputs": [],
   "source": [
    "df = df[['news','masked headline','calculation','ans']]"
   ]
  },
  {
   "cell_type": "code",
   "execution_count": null,
   "id": "438c8263",
   "metadata": {
    "id": "438c8263"
   },
   "outputs": [],
   "source": [
    "df['published'] = df.apply(lambda item: convert_timestamp(item['news']), axis=1)"
   ]
  },
  {
   "cell_type": "code",
   "execution_count": null,
   "id": "505f551d",
   "metadata": {
    "id": "505f551d",
    "outputId": "b958b7df-4b75-472b-a486-f067df58b595"
   },
   "outputs": [
    {
     "name": "stdout",
     "output_type": "stream",
     "text": [
      "Round(42.7) 42.8\n",
      "Round(141.53) 142\n"
     ]
    }
   ],
   "source": [
    "df['ans_sent'] = df.apply(lambda item: get_ans_sent(item), axis=1)"
   ]
  },
  {
   "cell_type": "code",
   "execution_count": null,
   "id": "bae0f1af",
   "metadata": {
    "id": "bae0f1af",
    "outputId": "def16102-4c7d-4f36-d985-fa169f556f00"
   },
   "outputs": [
    {
     "data": {
      "text/plain": [
       "(162, 6)"
      ]
     },
     "execution_count": 20,
     "metadata": {},
     "output_type": "execute_result"
    }
   ],
   "source": [
    "df[df['ans_sent'].isna()].shape"
   ]
  },
  {
   "cell_type": "code",
   "execution_count": null,
   "id": "d4d00e1a",
   "metadata": {
    "id": "d4d00e1a",
    "outputId": "084b815d-ae38-43cb-b8bd-0802d61e4452"
   },
   "outputs": [
    {
     "data": {
      "text/plain": [
       "\"(Nov 22, 2010  5:08 PM) So the Nissan Leaf's efficiency technically isn't measured in gallons, but the feds say it's running at the equivalent of 99 mpg, reports the AP—106 city and 92 highway. The EPA says the Leaf can go about 73 miles on a full charge (that's down from Nissan's estimates of 100 miles) and run an average $561 a year in electricity.\""
      ]
     },
     "execution_count": 21,
     "metadata": {},
     "output_type": "execute_result"
    }
   ],
   "source": [
    "df[(df['ans_sent'].isna()) & (df['calculation'].str.contains('Trans'))].iloc[2].news"
   ]
  },
  {
   "cell_type": "code",
   "execution_count": null,
   "id": "311dfba2",
   "metadata": {
    "id": "311dfba2"
   },
   "outputs": [],
   "source": [
    "a = df[(df['ans_sent'].isna()) & (df['calculation'].str.contains('Trans'))].iloc[3]\n",
    "get_trans_placeholder(a)"
   ]
  },
  {
   "cell_type": "code",
   "execution_count": null,
   "id": "476d23b0",
   "metadata": {
    "id": "476d23b0"
   },
   "outputs": [],
   "source": [
    "missed = df[df['ans_sent'].isna()]"
   ]
  },
  {
   "cell_type": "code",
   "execution_count": null,
   "id": "edee978a",
   "metadata": {
    "id": "edee978a"
   },
   "outputs": [],
   "source": [
    "training_df = df[~df['ans_sent'].isna()]"
   ]
  },
  {
   "cell_type": "code",
   "execution_count": null,
   "id": "a633d308",
   "metadata": {
    "id": "a633d308",
    "outputId": "31ac6d97-2439-48d2-8200-1a96d4f4f510"
   },
   "outputs": [
    {
     "data": {
      "text/plain": [
       "(20995, 6)"
      ]
     },
     "execution_count": 25,
     "metadata": {},
     "output_type": "execute_result"
    }
   ],
   "source": [
    "training_df.shape"
   ]
  },
  {
   "cell_type": "code",
   "execution_count": null,
   "id": "f1f594c4",
   "metadata": {
    "id": "f1f594c4",
    "outputId": "7154605f-6ab1-43fb-b4b8-b322ae9c9c08"
   },
   "outputs": [
    {
     "name": "stderr",
     "output_type": "stream",
     "text": [
      "/tmp/ipykernel_262124/2826775701.py:1: SettingWithCopyWarning: \n",
      "A value is trying to be set on a copy of a slice from a DataFrame.\n",
      "Try using .loc[row_indexer,col_indexer] = value instead\n",
      "\n",
      "See the caveats in the documentation: https://pandas.pydata.org/pandas-docs/stable/user_guide/indexing.html#returning-a-view-versus-a-copy\n",
      "  training_df['inputs'] = training_df.apply(lambda item: prepare_input(item),axis=1)\n"
     ]
    }
   ],
   "source": [
    "training_df['inputs'] = training_df.apply(lambda item: prepare_input(item),axis=1)"
   ]
  },
  {
   "cell_type": "code",
   "execution_count": null,
   "id": "af022585",
   "metadata": {
    "id": "af022585"
   },
   "outputs": [],
   "source": [
    "# training_df.to_csv('test-cot.csv', index=False)"
   ]
  },
  {
   "cell_type": "code",
   "execution_count": null,
   "id": "c57408f3",
   "metadata": {
    "id": "c57408f3",
    "outputId": "2983d607-d214-4976-edb7-a4fd0bd672e0"
   },
   "outputs": [
    {
     "data": {
      "text/plain": [
       "\"The actual answer can be found in the sentence: '1, Walmart will no longer offer 30,000 of its employees health insurance.'. However, the answer is paraphrased  which is common for large numbers. The number: '30,000' is paraphrased to '30K' after dividing 30000 by 1000. So the answer is 30\""
      ]
     },
     "execution_count": 28,
     "metadata": {},
     "output_type": "execute_result"
    }
   ],
   "source": [
    "training_df['ans_sent'].iloc[0]"
   ]
  },
  {
   "cell_type": "code",
   "execution_count": null,
   "id": "5bc854d3",
   "metadata": {
    "id": "5bc854d3",
    "outputId": "77e7bebf-9f7f-4444-a735-167f07475c4b"
   },
   "outputs": [
    {
     "data": {
      "text/plain": [
       "'____K Walmart Part-Timers to Lose Health Insurance'"
      ]
     },
     "execution_count": 29,
     "metadata": {},
     "output_type": "execute_result"
    }
   ],
   "source": [
    "training_df['masked headline'].iloc[0]"
   ]
  },
  {
   "cell_type": "code",
   "execution_count": null,
   "id": "b4b310b0",
   "metadata": {
    "id": "b4b310b0",
    "outputId": "282e39f4-f272-4b5a-df70-99f8fccba5c6"
   },
   "outputs": [
    {
     "data": {
      "text/plain": [
       "\"The answer can be found in the sentence: 'As Shepard revealed last night on Jimmy Kimmel Live, the whole thing—including the fuel it took to get to the courthouse—cost $142.'. so the answer is 142\""
      ]
     },
     "execution_count": 30,
     "metadata": {},
     "output_type": "execute_result"
    }
   ],
   "source": [
    "training_df['ans_sent'].iloc[1]"
   ]
  },
  {
   "cell_type": "code",
   "execution_count": null,
   "id": "07de3c71",
   "metadata": {
    "id": "07de3c71",
    "outputId": "9f826559-cf00-4aa3-ffd9-29dbef567068"
   },
   "outputs": [
    {
     "data": {
      "text/plain": [
       "'Dax Shepard: Wedding to Kristen Bell Cost $____'"
      ]
     },
     "execution_count": 31,
     "metadata": {},
     "output_type": "execute_result"
    }
   ],
   "source": [
    "training_df['masked headline'].iloc[1]"
   ]
  },
  {
   "cell_type": "code",
   "execution_count": null,
   "id": "fa68de1a",
   "metadata": {
    "id": "fa68de1a",
    "outputId": "7bdfc4db-53ef-4edc-f371-e23330cf8924"
   },
   "outputs": [
    {
     "data": {
      "text/plain": [
       "\"The answer can be found in the sentence: 'Nancy Reagan, the helpmate, backstage adviser, and fierce protector of Ronald Reagan in his journey from actor to president—and finally during his 10-year battle with Alzheimer's disease—died Sunday at the age of 94, reports the AP, via CBS News.'. so the answer is 94\""
      ]
     },
     "execution_count": 32,
     "metadata": {},
     "output_type": "execute_result"
    }
   ],
   "source": [
    "training_df['ans_sent'].iloc[2]"
   ]
  },
  {
   "cell_type": "code",
   "execution_count": null,
   "id": "ac19ee41",
   "metadata": {
    "id": "ac19ee41",
    "outputId": "b2c998eb-0616-45c4-bc39-97b43e231ed4"
   },
   "outputs": [
    {
     "data": {
      "text/html": [
       "<div>\n",
       "<style scoped>\n",
       "    .dataframe tbody tr th:only-of-type {\n",
       "        vertical-align: middle;\n",
       "    }\n",
       "\n",
       "    .dataframe tbody tr th {\n",
       "        vertical-align: top;\n",
       "    }\n",
       "\n",
       "    .dataframe thead th {\n",
       "        text-align: right;\n",
       "    }\n",
       "</style>\n",
       "<table border=\"1\" class=\"dataframe\">\n",
       "  <thead>\n",
       "    <tr style=\"text-align: right;\">\n",
       "      <th></th>\n",
       "      <th>news</th>\n",
       "      <th>masked headline</th>\n",
       "      <th>calculation</th>\n",
       "      <th>ans</th>\n",
       "      <th>published</th>\n",
       "      <th>ans_sent</th>\n",
       "      <th>inputs</th>\n",
       "    </tr>\n",
       "  </thead>\n",
       "  <tbody>\n",
       "    <tr>\n",
       "      <th>116</th>\n",
       "      <td>(Mar 20, 2011  6:00 AM CDT) An 80-year-old wom...</td>\n",
       "      <td>Japan Pulls ____ Survivors From Rubble</td>\n",
       "      <td>Add(80-year-old woman,16-year-old grandson)</td>\n",
       "      <td>2</td>\n",
       "      <td>The news was published on 20th March in the ye...</td>\n",
       "      <td>So the answer is 2</td>\n",
       "      <td>The news was published on 20th March in the ye...</td>\n",
       "    </tr>\n",
       "    <tr>\n",
       "      <th>280</th>\n",
       "      <td>(Sep 30, 2010  10:58 AM CDT) Next year’s Oscar...</td>\n",
       "      <td>____: Whitest Oscars in a Decade?</td>\n",
       "      <td>Add(2010,1)</td>\n",
       "      <td>2011</td>\n",
       "      <td>The news was published on 30th September in th...</td>\n",
       "      <td>So the answer is 2011</td>\n",
       "      <td>The news was published on 30th September in th...</td>\n",
       "    </tr>\n",
       "    <tr>\n",
       "      <th>292</th>\n",
       "      <td>(Dec 17, 2010  6:00 PM) America's most promine...</td>\n",
       "      <td>CNN, Tea Party Express to Host ____ Debate</td>\n",
       "      <td>Add(2010,2)</td>\n",
       "      <td>2012</td>\n",
       "      <td>The news was published on 17th December in the...</td>\n",
       "      <td>So the answer is 2012</td>\n",
       "      <td>The news was published on 17th December in the...</td>\n",
       "    </tr>\n",
       "    <tr>\n",
       "      <th>454</th>\n",
       "      <td>(Dec 31, 2013  6:22 AM) You will never, ever, ...</td>\n",
       "      <td>Woman With ____-Character Last Name Wins Fight...</td>\n",
       "      <td>Add(35,1)</td>\n",
       "      <td>36</td>\n",
       "      <td>The news was published on 31st December in the...</td>\n",
       "      <td>So the answer is 36</td>\n",
       "      <td>The news was published on 31st December in the...</td>\n",
       "    </tr>\n",
       "    <tr>\n",
       "      <th>543</th>\n",
       "      <td>(Jan 4, 2013  12:27 PM) Historically speaking,...</td>\n",
       "      <td>Get Ready for Another Black President in ____</td>\n",
       "      <td>Add(2013,3)</td>\n",
       "      <td>2016</td>\n",
       "      <td>The news was published on 4th January in the y...</td>\n",
       "      <td>So the answer is 2016</td>\n",
       "      <td>The news was published on 4th January in the y...</td>\n",
       "    </tr>\n",
       "    <tr>\n",
       "      <th>...</th>\n",
       "      <td>...</td>\n",
       "      <td>...</td>\n",
       "      <td>...</td>\n",
       "      <td>...</td>\n",
       "      <td>...</td>\n",
       "      <td>...</td>\n",
       "      <td>...</td>\n",
       "    </tr>\n",
       "    <tr>\n",
       "      <th>19998</th>\n",
       "      <td>(Nov 8, 2017  7:16 AM) Axios calls it  a big s...</td>\n",
       "      <td>Amid 2017 Election Wave, Big Implications for ...</td>\n",
       "      <td>Add(2017,1)</td>\n",
       "      <td>2018</td>\n",
       "      <td>The news was published on 8th November in the ...</td>\n",
       "      <td>So the answer is 2018</td>\n",
       "      <td>The news was published on 8th November in the ...</td>\n",
       "    </tr>\n",
       "    <tr>\n",
       "      <th>20202</th>\n",
       "      <td>(Nov 18, 2016  12:29 PM) Cobb County, Ga., jus...</td>\n",
       "      <td>____ Georgia Residents to Have Homes Demolishe...</td>\n",
       "      <td>Add(15,16)</td>\n",
       "      <td>31</td>\n",
       "      <td>The news was published on 18th November in the...</td>\n",
       "      <td>So the answer is 31</td>\n",
       "      <td>The news was published on 18th November in the...</td>\n",
       "    </tr>\n",
       "    <tr>\n",
       "      <th>20484</th>\n",
       "      <td>(Oct 19, 2017  6:53 PM CDT) Imagine living in ...</td>\n",
       "      <td>Target Has Stores in 49 States. It's About to ...</td>\n",
       "      <td>Add(49,1)</td>\n",
       "      <td>50</td>\n",
       "      <td>The news was published on 19th October in the ...</td>\n",
       "      <td>So the answer is 50</td>\n",
       "      <td>The news was published on 19th October in the ...</td>\n",
       "    </tr>\n",
       "    <tr>\n",
       "      <th>20581</th>\n",
       "      <td>(Jan 24, 2017  12:59 PM) Parisian streets have...</td>\n",
       "      <td>How to Buy a Piece of Parisian Real Estate for...</td>\n",
       "      <td>Add(60,15)</td>\n",
       "      <td>75</td>\n",
       "      <td>The news was published on 24th January in the ...</td>\n",
       "      <td>So the answer is 75</td>\n",
       "      <td>The news was published on 24th January in the ...</td>\n",
       "    </tr>\n",
       "    <tr>\n",
       "      <th>20693</th>\n",
       "      <td>(Mar 22, 2017  3:46 AM CDT) Relatives are mour...</td>\n",
       "      <td>Family of ____ Wiped Out in Highway Wreck</td>\n",
       "      <td>Add(3,2)</td>\n",
       "      <td>5</td>\n",
       "      <td>The news was published on 22nd March in the ye...</td>\n",
       "      <td>So the answer is 5</td>\n",
       "      <td>The news was published on 22nd March in the ye...</td>\n",
       "    </tr>\n",
       "  </tbody>\n",
       "</table>\n",
       "<p>109 rows × 7 columns</p>\n",
       "</div>"
      ],
      "text/plain": [
       "                                                    news  \\\n",
       "116    (Mar 20, 2011  6:00 AM CDT) An 80-year-old wom...   \n",
       "280    (Sep 30, 2010  10:58 AM CDT) Next year’s Oscar...   \n",
       "292    (Dec 17, 2010  6:00 PM) America's most promine...   \n",
       "454    (Dec 31, 2013  6:22 AM) You will never, ever, ...   \n",
       "543    (Jan 4, 2013  12:27 PM) Historically speaking,...   \n",
       "...                                                  ...   \n",
       "19998  (Nov 8, 2017  7:16 AM) Axios calls it  a big s...   \n",
       "20202  (Nov 18, 2016  12:29 PM) Cobb County, Ga., jus...   \n",
       "20484  (Oct 19, 2017  6:53 PM CDT) Imagine living in ...   \n",
       "20581  (Jan 24, 2017  12:59 PM) Parisian streets have...   \n",
       "20693  (Mar 22, 2017  3:46 AM CDT) Relatives are mour...   \n",
       "\n",
       "                                         masked headline  \\\n",
       "116               Japan Pulls ____ Survivors From Rubble   \n",
       "280                    ____: Whitest Oscars in a Decade?   \n",
       "292           CNN, Tea Party Express to Host ____ Debate   \n",
       "454    Woman With ____-Character Last Name Wins Fight...   \n",
       "543        Get Ready for Another Black President in ____   \n",
       "...                                                  ...   \n",
       "19998  Amid 2017 Election Wave, Big Implications for ...   \n",
       "20202  ____ Georgia Residents to Have Homes Demolishe...   \n",
       "20484  Target Has Stores in 49 States. It's About to ...   \n",
       "20581  How to Buy a Piece of Parisian Real Estate for...   \n",
       "20693          Family of ____ Wiped Out in Highway Wreck   \n",
       "\n",
       "                                       calculation   ans  \\\n",
       "116    Add(80-year-old woman,16-year-old grandson)     2   \n",
       "280                                    Add(2010,1)  2011   \n",
       "292                                    Add(2010,2)  2012   \n",
       "454                                      Add(35,1)    36   \n",
       "543                                    Add(2013,3)  2016   \n",
       "...                                            ...   ...   \n",
       "19998                                  Add(2017,1)  2018   \n",
       "20202                                   Add(15,16)    31   \n",
       "20484                                    Add(49,1)    50   \n",
       "20581                                   Add(60,15)    75   \n",
       "20693                                     Add(3,2)     5   \n",
       "\n",
       "                                               published  \\\n",
       "116    The news was published on 20th March in the ye...   \n",
       "280    The news was published on 30th September in th...   \n",
       "292    The news was published on 17th December in the...   \n",
       "454    The news was published on 31st December in the...   \n",
       "543    The news was published on 4th January in the y...   \n",
       "...                                                  ...   \n",
       "19998  The news was published on 8th November in the ...   \n",
       "20202  The news was published on 18th November in the...   \n",
       "20484  The news was published on 19th October in the ...   \n",
       "20581  The news was published on 24th January in the ...   \n",
       "20693  The news was published on 22nd March in the ye...   \n",
       "\n",
       "                    ans_sent  \\\n",
       "116       So the answer is 2   \n",
       "280    So the answer is 2011   \n",
       "292    So the answer is 2012   \n",
       "454      So the answer is 36   \n",
       "543    So the answer is 2016   \n",
       "...                      ...   \n",
       "19998  So the answer is 2018   \n",
       "20202    So the answer is 31   \n",
       "20484    So the answer is 50   \n",
       "20581    So the answer is 75   \n",
       "20693     So the answer is 5   \n",
       "\n",
       "                                                  inputs  \n",
       "116    The news was published on 20th March in the ye...  \n",
       "280    The news was published on 30th September in th...  \n",
       "292    The news was published on 17th December in the...  \n",
       "454    The news was published on 31st December in the...  \n",
       "543    The news was published on 4th January in the y...  \n",
       "...                                                  ...  \n",
       "19998  The news was published on 8th November in the ...  \n",
       "20202  The news was published on 18th November in the...  \n",
       "20484  The news was published on 19th October in the ...  \n",
       "20581  The news was published on 24th January in the ...  \n",
       "20693  The news was published on 22nd March in the ye...  \n",
       "\n",
       "[109 rows x 7 columns]"
      ]
     },
     "execution_count": 33,
     "metadata": {},
     "output_type": "execute_result"
    }
   ],
   "source": [
    "filter_unique_string(training_df, 'Add')"
   ]
  },
  {
   "cell_type": "code",
   "execution_count": null,
   "id": "b11943f8",
   "metadata": {
    "id": "b11943f8"
   },
   "outputs": [],
   "source": []
  }
 ],
 "metadata": {
  "colab": {
   "provenance": []
  },
  "kernelspec": {
   "display_name": "Python 3 (ipykernel)",
   "language": "python",
   "name": "python3"
  },
  "language_info": {
   "codemirror_mode": {
    "name": "ipython",
    "version": 3
   },
   "file_extension": ".py",
   "mimetype": "text/x-python",
   "name": "python",
   "nbconvert_exporter": "python",
   "pygments_lexer": "ipython3",
   "version": "3.10.12"
  }
 },
 "nbformat": 4,
 "nbformat_minor": 5
}
