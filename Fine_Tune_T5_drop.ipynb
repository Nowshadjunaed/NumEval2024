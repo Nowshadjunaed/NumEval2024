{
  "cells": [
    {
      "cell_type": "code",
      "execution_count": null,
      "metadata": {
        "id": "uglutoR-RE_y"
      },
      "outputs": [],
      "source": [
        "!pip install datasets\n",
        "!pip install accelerate -U"
      ]
    },
    {
      "cell_type": "code",
      "execution_count": null,
      "metadata": {
        "id": "03y6_eBDWPYC"
      },
      "outputs": [],
      "source": [
        "from google.colab import drive\n",
        "import pandas as pd\n",
        "import os\n",
        "import json\n",
        "import re\n",
        "from datasets import Dataset\n",
        "from torch.utils.data import DataLoader\n",
        "from datasets import load_from_disk\n",
        "from transformers import T5ForConditionalGeneration, T5Tokenizer, MT5ForConditionalGeneration, MT5Tokenizer\n",
        "from transformers import Seq2SeqTrainingArguments\n",
        "from transformers import DataCollatorForSeq2Seq\n",
        "from transformers import Seq2SeqTrainer\n",
        "os.environ['WANDB_SILENT']=\"true\"\n",
        "os.environ[\"WANDB_DISABLED\"] = \"true\""
      ]
    },
    {
      "cell_type": "code",
      "execution_count": null,
      "metadata": {
        "colab": {
          "base_uri": "https://localhost:8080/"
        },
        "id": "rRARV50sWsP1",
        "outputId": "8ce3e7f5-5d23-4696-fb09-4a123f9a7311"
      },
      "outputs": [
        {
          "name": "stdout",
          "output_type": "stream",
          "text": [
            "Drive already mounted at /content/drive; to attempt to forcibly remount, call drive.mount(\"/content/drive\", force_remount=True).\n"
          ]
        }
      ],
      "source": [
        "drive.mount('/content/drive')\n",
        "!cd /content/drive/MyDrive/Shared-Tasks/Num-Eval"
      ]
    },
    {
      "cell_type": "code",
      "execution_count": null,
      "metadata": {
        "colab": {
          "base_uri": "https://localhost:8080/"
        },
        "id": "T0LNwiAWRn-9",
        "outputId": "ac497c5f-0b93-4150-bd3e-a4a0c93d9db7"
      },
      "outputs": [
        {
          "name": "stdout",
          "output_type": "stream",
          "text": [
            "/content/drive/MyDrive/Shared-Tasks/Num-Eval\n"
          ]
        }
      ],
      "source": [
        "cd /content/drive/MyDrive/Shared-Tasks/Num-Eval"
      ]
    },
    {
      "cell_type": "code",
      "execution_count": null,
      "metadata": {
        "id": "kduOrtFZavnU"
      },
      "outputs": [],
      "source": [
        "from transformers import AutoTokenizer, AutoModelForSeq2SeqLM\n",
        "model_id=\"google/flan-t5-base\"\n",
        "tokenizer = AutoTokenizer.from_pretrained(model_id)\n",
        "model = AutoModelForSeq2SeqLM.from_pretrained(model_id)"
      ]
    },
    {
      "cell_type": "code",
      "execution_count": null,
      "metadata": {
        "id": "hRlWbMIGaCzr"
      },
      "outputs": [],
      "source": [
        "train_data = load_from_disk('./Dataset/train-drop-20k')\n",
        "dev_data = load_from_disk('./Dataset/dev')"
      ]
    },
    {
      "cell_type": "code",
      "execution_count": null,
      "metadata": {
        "id": "uJt_j_TPeAlR"
      },
      "outputs": [],
      "source": [
        "def collator(batch):\n",
        "\n",
        "    input = batch['t5-input'] #load original sentences\n",
        "    label = batch['ans'] #load noisy sentences\n",
        "    inputs = tokenizer(input, text_target=label, return_tensors=\"pt\", max_length = 512, padding='max_length',truncation=True) #tokenized sentences\n",
        "\n",
        "    return inputs"
      ]
    },
    {
      "cell_type": "code",
      "execution_count": null,
      "metadata": {
        "id": "oE4007INertV"
      },
      "outputs": [],
      "source": [
        "train_tokenized = train_data.map(collator, remove_columns=train_data.column_names, batch_size=8, num_proc=4, batched=True)\n",
        "dev_tokenized = dev_data.map(collator, remove_columns=dev_data.column_names, batch_size=8, num_proc=4, batched=True)\n"
      ]
    },
    {
      "cell_type": "code",
      "execution_count": null,
      "metadata": {
        "id": "K09dOulIfB3k"
      },
      "outputs": [],
      "source": [
        "#define evaluation steps based on total dataset size\n",
        "TRAIN_BATCH_SIZE = 2\n",
        "EPOCHS = 3\n",
        "LEARNING_RATE = 5e-5\n",
        "data_size = len(train_tokenized)\n",
        "EVAL_STEPS=int(data_size/(TRAIN_BATCH_SIZE*2))\n",
        "SAVE_STEPS= EVAL_STEPS\n",
        "\n",
        "\n"
      ]
    },
    {
      "cell_type": "code",
      "execution_count": null,
      "metadata": {
        "colab": {
          "base_uri": "https://localhost:8080/"
        },
        "id": "j_lLaNsBf8v4",
        "outputId": "a42c40c2-1dfa-4acd-9636-e84fba815991"
      },
      "outputs": [
        {
          "name": "stderr",
          "output_type": "stream",
          "text": [
            "Using the `WANDB_DISABLED` environment variable is deprecated and will be removed in v5. Use the --report_to flag to control the integrations used for logging result (for instance --report_to none).\n"
          ]
        }
      ],
      "source": [
        "#define training argument object\n",
        "training_args = Seq2SeqTrainingArguments(\n",
        "  output_dir=\"./Outputs\",\n",
        "  group_by_length=True,\n",
        "  per_device_train_batch_size=TRAIN_BATCH_SIZE,\n",
        "  gradient_accumulation_steps=2,\n",
        "  evaluation_strategy=\"steps\",\n",
        "  num_train_epochs=EPOCHS,\n",
        "  fp16=False,\n",
        "  save_steps=SAVE_STEPS,\n",
        "  eval_steps=EVAL_STEPS,\n",
        "  logging_steps=EVAL_STEPS,\n",
        "  learning_rate=LEARNING_RATE,\n",
        "  warmup_steps=100,\n",
        "  save_total_limit=2,\n",
        ")\n",
        "\n",
        "\n",
        "#define training data collator\n",
        "data_collator = DataCollatorForSeq2Seq(tokenizer, return_tensors='pt')\n",
        "\n",
        "\n",
        "#define Seq2Seq Training object\n",
        "trainer = Seq2SeqTrainer(\n",
        "    model=model.cuda(),\n",
        "    data_collator=data_collator,\n",
        "    args=training_args,\n",
        "    train_dataset=train_tokenized,\n",
        "    eval_dataset=dev_tokenized,\n",
        "    tokenizer=tokenizer\n",
        ")"
      ]
    },
    {
      "cell_type": "code",
      "execution_count": null,
      "metadata": {
        "colab": {
          "background_save": true
        },
        "id": "wGWVkoeUgMsS"
      },
      "outputs": [],
      "source": [
        "os.environ['WANDB_SILENT']=\"true\"\n",
        "trainer.train()"
      ]
    },
    {
      "cell_type": "code",
      "execution_count": null,
      "metadata": {
        "colab": {
          "background_save": true
        },
        "id": "hYQsy4zYh2zY"
      },
      "outputs": [],
      "source": [
        "outputDir = \"./Outputs\"\n",
        "trainer.save_model(f\"{outputDir}/base-drop-20k\")"
      ]
    }
  ],
  "metadata": {
    "accelerator": "GPU",
    "colab": {
      "provenance": []
    },
    "kernelspec": {
      "display_name": "Python 3 (ipykernel)",
      "language": "python",
      "name": "python3"
    },
    "language_info": {
      "codemirror_mode": {
        "name": "ipython",
        "version": 3
      },
      "file_extension": ".py",
      "mimetype": "text/x-python",
      "name": "python",
      "nbconvert_exporter": "python",
      "pygments_lexer": "ipython3",
      "version": "3.10.12"
    }
  },
  "nbformat": 4,
  "nbformat_minor": 0
}