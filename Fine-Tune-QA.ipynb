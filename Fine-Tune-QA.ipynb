{
 "cells": [
  {
   "cell_type": "code",
   "execution_count": 1,
   "metadata": {
    "executionInfo": {
     "elapsed": 16,
     "status": "ok",
     "timestamp": 1698177133916,
     "user": {
      "displayName": "Md Zobaer Hossain",
      "userId": "17306798615063951361"
     },
     "user_tz": -120
    },
    "id": "xJckGXrNAHiL"
   },
   "outputs": [],
   "source": [
    "from google.colab import drive\n",
    "import pandas as pd\n",
    "import os\n",
    "import json\n",
    "import re"
   ]
  },
  {
   "cell_type": "code",
   "execution_count": 2,
   "metadata": {
    "colab": {
     "base_uri": "https://localhost:8080/"
    },
    "executionInfo": {
     "elapsed": 30544,
     "status": "ok",
     "timestamp": 1698177164447,
     "user": {
      "displayName": "Md Zobaer Hossain",
      "userId": "17306798615063951361"
     },
     "user_tz": -120
    },
    "id": "IP3D3dLNASf9",
    "outputId": "7ed623fc-2e09-435c-b1ec-629d8eaf7286"
   },
   "outputs": [
    {
     "name": "stdout",
     "output_type": "stream",
     "text": [
      "Mounted at /content/drive\n"
     ]
    }
   ],
   "source": [
    "drive.mount('/content/drive')"
   ]
  },
  {
   "cell_type": "code",
   "execution_count": 3,
   "metadata": {
    "colab": {
     "base_uri": "https://localhost:8080/"
    },
    "executionInfo": {
     "elapsed": 28,
     "status": "ok",
     "timestamp": 1698177164449,
     "user": {
      "displayName": "Md Zobaer Hossain",
      "userId": "17306798615063951361"
     },
     "user_tz": -120
    },
    "id": "HUWTncobAwKE",
    "outputId": "4208de0b-39b8-4740-949b-acd113af25ed"
   },
   "outputs": [
    {
     "name": "stdout",
     "output_type": "stream",
     "text": [
      "/content/drive/MyDrive/Shared-Tasks/Num-Eval\n"
     ]
    }
   ],
   "source": [
    "cd /content/drive/MyDrive/Shared-Tasks/Num-Eval"
   ]
  },
  {
   "cell_type": "code",
   "execution_count": 4,
   "metadata": {
    "colab": {
     "base_uri": "https://localhost:8080/"
    },
    "executionInfo": {
     "elapsed": 764,
     "status": "ok",
     "timestamp": 1698177165194,
     "user": {
      "displayName": "Md Zobaer Hossain",
      "userId": "17306798615063951361"
     },
     "user_tz": -120
    },
    "id": "Ekz5e-LnB8RM",
    "outputId": "078479ab-7fff-43fa-e77a-7f59316289af"
   },
   "outputs": [
    {
     "name": "stdout",
     "output_type": "stream",
     "text": [
      "Dev_Headline_Generation.json  Train_Headline_Generation.json\n",
      "Dev_Numerical_Reasoning.json  Train_Numerical_Reasoning.json\n"
     ]
    }
   ],
   "source": [
    "ls Dataset"
   ]
  },
  {
   "cell_type": "code",
   "execution_count": 5,
   "metadata": {
    "executionInfo": {
     "elapsed": 14,
     "status": "ok",
     "timestamp": 1698177165195,
     "user": {
      "displayName": "Md Zobaer Hossain",
      "userId": "17306798615063951361"
     },
     "user_tz": -120
    },
    "id": "T882ppLtA7Eh"
   },
   "outputs": [],
   "source": [
    "def file_loader(json_path):\n",
    "  with open(json_path) as f:\n",
    "    contents = f.read()\n",
    "  return json.loads(contents)"
   ]
  },
  {
   "cell_type": "code",
   "execution_count": 6,
   "metadata": {
    "executionInfo": {
     "elapsed": 1123,
     "status": "ok",
     "timestamp": 1698177166306,
     "user": {
      "displayName": "Md Zobaer Hossain",
      "userId": "17306798615063951361"
     },
     "user_tz": -120
    },
    "id": "anVNdV-ABDRk"
   },
   "outputs": [],
   "source": [
    "numerical_reasoning_dev = \"Dev_Numerical_Reasoning.json\"\n",
    "numerical_reasoning_train = \"Train_Numerical_Reasoning.json\"\n",
    "\n",
    "numerical_data_dev_path = os.path.join(\"Dataset\", numerical_reasoning_dev)\n",
    "numerical_data_train_path = os.path.join(\"Dataset\", numerical_reasoning_train)\n",
    "\n",
    "numerical_data_train = file_loader(numerical_data_train_path)\n",
    "df_train = pd.DataFrame.from_dict(numerical_data_train)\n",
    "\n",
    "numerical_data_dev = file_loader(numerical_data_dev_path)\n",
    "df_dev = pd.DataFrame.from_dict(numerical_data_dev)"
   ]
  },
  {
   "cell_type": "code",
   "execution_count": 7,
   "metadata": {
    "colab": {
     "base_uri": "https://localhost:8080/"
    },
    "executionInfo": {
     "elapsed": 19,
     "status": "ok",
     "timestamp": 1698177166307,
     "user": {
      "displayName": "Md Zobaer Hossain",
      "userId": "17306798615063951361"
     },
     "user_tz": -120
    },
    "id": "OtJzk4_5C8kR",
    "outputId": "d601137a-82e4-4df4-c390-400aef526cc4"
   },
   "outputs": [
    {
     "data": {
      "text/plain": [
       "(2572, 4)"
      ]
     },
     "execution_count": 7,
     "metadata": {},
     "output_type": "execute_result"
    }
   ],
   "source": [
    "df_dev.shape"
   ]
  },
  {
   "cell_type": "code",
   "execution_count": 8,
   "metadata": {
    "colab": {
     "base_uri": "https://localhost:8080/"
    },
    "executionInfo": {
     "elapsed": 16,
     "status": "ok",
     "timestamp": 1698177166308,
     "user": {
      "displayName": "Md Zobaer Hossain",
      "userId": "17306798615063951361"
     },
     "user_tz": -120
    },
    "id": "MZwk9nIgC_cm",
    "outputId": "019d0a3c-1909-4c8c-ccfc-b3f5ae222156"
   },
   "outputs": [
    {
     "data": {
      "text/plain": [
       "(21157, 4)"
      ]
     },
     "execution_count": 8,
     "metadata": {},
     "output_type": "execute_result"
    }
   ],
   "source": [
    "df_train.shape"
   ]
  },
  {
   "cell_type": "code",
   "execution_count": 9,
   "metadata": {
    "executionInfo": {
     "elapsed": 254,
     "status": "ok",
     "timestamp": 1698177199828,
     "user": {
      "displayName": "Md Zobaer Hossain",
      "userId": "17306798615063951361"
     },
     "user_tz": -120
    },
    "id": "b1x4b13nB-9K"
   },
   "outputs": [],
   "source": [
    "df_dev['context'] = df_dev['news'].apply(lambda x: re.sub(r'\\([^)]*\\)', '', x, 1).strip())\n",
    "df_dev = df_dev.rename({'masked headline':'question'})\n"
   ]
  },
  {
   "cell_type": "code",
   "execution_count": 18,
   "metadata": {
    "colab": {
     "base_uri": "https://localhost:8080/",
     "height": 105
    },
    "executionInfo": {
     "elapsed": 237,
     "status": "ok",
     "timestamp": 1698177556887,
     "user": {
      "displayName": "Md Zobaer Hossain",
      "userId": "17306798615063951361"
     },
     "user_tz": -120
    },
    "id": "g3QFnnWhQSoO",
    "outputId": "460ea4b8-dce9-41d6-ca0c-68f7cff11872"
   },
   "outputs": [
    {
     "data": {
      "application/vnd.google.colaboratory.intrinsic+json": {
       "type": "string"
      },
      "text/plain": [
       "'Police are still hunting for an  armed and dangerous  man who shot and killed three people and wounded five others at the California quarry where he worked this morning. He also shot and injured another woman in an attempted carjacking later. The suspect is identified as 45-year-old Shareef Allman. The San Jose Mercury News says he moonlighted as producer of a show called Real 2 Real on something called CreaTV in the area. (He interviews Jesse Jackson in one YouTube clip, which is in the gallery. Allman, who spread a message of non-violence, also has written a book called Amazing Grace about female victims of domestic violence, notes the Mercury News. The shooting spree occurred about 4:30am local time when a man left a safety meeting at the Lehigh Southwest Cement Permanente Plant, then returned with a rifle and a handgun, according to police. He fled on foot, and a massive manhunt is under way in the San Jose area. Schools are on lockdown, notes AP.'"
      ]
     },
     "execution_count": 18,
     "metadata": {},
     "output_type": "execute_result"
    }
   ],
   "source": [
    "df_dev.iloc[0]['context']"
   ]
  },
  {
   "cell_type": "code",
   "execution_count": 19,
   "metadata": {
    "colab": {
     "base_uri": "https://localhost:8080/",
     "height": 35
    },
    "executionInfo": {
     "elapsed": 311,
     "status": "ok",
     "timestamp": 1698177560929,
     "user": {
      "displayName": "Md Zobaer Hossain",
      "userId": "17306798615063951361"
     },
     "user_tz": -120
    },
    "id": "W6dhrzulCiYV",
    "outputId": "a62c5416-a564-4e39-cb95-0400c1374112"
   },
   "outputs": [
    {
     "data": {
      "application/vnd.google.colaboratory.intrinsic+json": {
       "type": "string"
      },
      "text/plain": [
       "'____rd Victim Dead in Quarry Shooting; Manhunt Still On'"
      ]
     },
     "execution_count": 19,
     "metadata": {},
     "output_type": "execute_result"
    }
   ],
   "source": [
    "df_dev.iloc[0]['masked headline']"
   ]
  },
  {
   "cell_type": "code",
   "execution_count": null,
   "metadata": {
    "id": "g4C0jvDjFJpZ"
   },
   "outputs": [],
   "source": [
    "!pip install transformers\n",
    "!pip install datasets"
   ]
  },
  {
   "cell_type": "code",
   "execution_count": 15,
   "metadata": {
    "colab": {
     "base_uri": "https://localhost:8080/",
     "height": 209,
     "referenced_widgets": [
      "b784d3d5613a4d87b9a6becc142c5cc4",
      "30c37abfe5da40d89d1940782a937550",
      "510ec509aa034ae9a3ae630d4e63691c",
      "602d608ea2764a059ec1fc8100c756db",
      "c06612f4e4934e03899740837e1ef371",
      "7ddb15e5f7134449ae1c4b189d8bae0e",
      "9e80c61c26d54f5f844c921f001a2b62",
      "6879acc26a914c5d9276f7f1cf662457",
      "37235fc40b4845f5b84cf33a9b505464",
      "f9d219f9f66a4caeaa3453d881a0395d",
      "a00b332e2a0b418cb0b69511364d47ec",
      "a45d3d599aec4fabbdb76eb021bc8019",
      "861e18b071334dd181259e3cd718b5be",
      "55764b74452e4e7994930b3a19706762",
      "3860c5c4b8294ec2ac7ba016e8252a45",
      "4b5385646ead4fb28b3661cb7b813c0d",
      "b9e814d129564be99dc4e05edddf7c86",
      "ef47d0d9697d4c16a15cd3f026de0b8d",
      "4889fd11b79e459aa69866b1f612c92b",
      "3c54e318fb8c422c8c01f31ac09872ec",
      "77b123f5e744426697674d883edd53b6",
      "050bd75c4ea746658321a3e436f6b4e3",
      "950a5fb4333b428798d29ec17d4367ac",
      "4a4e6f77b9294dc289ee62a63969e511",
      "f1dd5ac6d14e408199baee196d9de688",
      "d87ffacb72a44ac8899e4a3f4a9cb60e",
      "d25f5ccad0f74b7baff6e3aa15914075",
      "286d5268483e4a7094b54987782b25aa",
      "f86136540f2148c7bc47efedef3e25e6",
      "36f305a32c284890a8b47f1e26d526de",
      "c21e4e65f66b4dbc8aad7d39650eff1d",
      "fe0826d48c4740949a92e1bd9827b0c7",
      "a1796eb4adab4458ae71975022d3a9cb",
      "1521c7b96f874f948864cb92235e356e",
      "240b516bc02a48548db9d8819ef2299a",
      "5c4c986816c0432f84244b05c2bae394",
      "ff9f4b398cc540d28fd5a1c533dcef2c",
      "c51ff17978554b83af7c83c97dd1e1f7",
      "4351ed7885194a199b97fb8b2f5139fc",
      "3136af6140d44fc4b05148a7523283c4",
      "e04edb350ec64ea9ace0255d8743cadc",
      "942971b730b94d7e86198ac70e4de4da",
      "04c05a8038a4453686918127dfe21062",
      "da22ad255aa34b3382a7c58fb3004da0",
      "2542895dbd5c4d609d211395368e852f",
      "a10a5883a0b64d2095c879558415893f",
      "87dc5f7882b74b478361594837f168f0",
      "59968f4787534949871ab16f816f69ad",
      "98d239f96c5a47b2822e3b27c3c119d2",
      "fc211a4be3e24df1ac7d123405f91f04",
      "787f8cef7d544f89b7d10643d13ecfc1",
      "ee94d5ff98184046964493c38d06e269",
      "bd2c19f2442946cf97babd35a9e8707a",
      "46d8d7d48a7c4ceea27bf9c70102217a",
      "51470b8f03a84c0a8e93068ca8ad8670",
      "dcf1e8207025447085d7027f45ab4a29",
      "8a997d8e80564ec39d748b9056c366ae",
      "caf2a1e47bea4d7a80ad0344d8326db2",
      "cefae2993198412ea801ffc7b6dfa2a8",
      "86dbff36dd474a67a04a4e232e77ccd4",
      "0b7a5f3ec054408a850458f107b19b93",
      "c227646356794890ad191068125fc18a",
      "789362fa601d4d5dbb53661f1d8d539b",
      "c452f475e6c24927b573908825950bcb",
      "f5baaca846834385a3f3ec6b11ad0a4e",
      "3d4fc12af68b4235aa2708037cf9b069"
     ]
    },
    "executionInfo": {
     "elapsed": 30616,
     "status": "ok",
     "timestamp": 1698177434019,
     "user": {
      "displayName": "Md Zobaer Hossain",
      "userId": "17306798615063951361"
     },
     "user_tz": -120
    },
    "id": "7Lhkdp2ADwyi",
    "outputId": "b224c1fc-9910-4d02-ed6a-674d844918eb"
   },
   "outputs": [
    {
     "data": {
      "application/vnd.jupyter.widget-view+json": {
       "model_id": "b784d3d5613a4d87b9a6becc142c5cc4",
       "version_major": 2,
       "version_minor": 0
      },
      "text/plain": [
       "Downloading (…)lve/main/config.json:   0%|          | 0.00/571 [00:00<?, ?B/s]"
      ]
     },
     "metadata": {},
     "output_type": "display_data"
    },
    {
     "data": {
      "application/vnd.jupyter.widget-view+json": {
       "model_id": "a45d3d599aec4fabbdb76eb021bc8019",
       "version_major": 2,
       "version_minor": 0
      },
      "text/plain": [
       "Downloading model.safetensors:   0%|          | 0.00/496M [00:00<?, ?B/s]"
      ]
     },
     "metadata": {},
     "output_type": "display_data"
    },
    {
     "data": {
      "application/vnd.jupyter.widget-view+json": {
       "model_id": "950a5fb4333b428798d29ec17d4367ac",
       "version_major": 2,
       "version_minor": 0
      },
      "text/plain": [
       "Downloading (…)okenizer_config.json:   0%|          | 0.00/79.0 [00:00<?, ?B/s]"
      ]
     },
     "metadata": {},
     "output_type": "display_data"
    },
    {
     "data": {
      "application/vnd.jupyter.widget-view+json": {
       "model_id": "1521c7b96f874f948864cb92235e356e",
       "version_major": 2,
       "version_minor": 0
      },
      "text/plain": [
       "Downloading (…)olve/main/vocab.json:   0%|          | 0.00/899k [00:00<?, ?B/s]"
      ]
     },
     "metadata": {},
     "output_type": "display_data"
    },
    {
     "data": {
      "application/vnd.jupyter.widget-view+json": {
       "model_id": "2542895dbd5c4d609d211395368e852f",
       "version_major": 2,
       "version_minor": 0
      },
      "text/plain": [
       "Downloading (…)olve/main/merges.txt:   0%|          | 0.00/456k [00:00<?, ?B/s]"
      ]
     },
     "metadata": {},
     "output_type": "display_data"
    },
    {
     "data": {
      "application/vnd.jupyter.widget-view+json": {
       "model_id": "dcf1e8207025447085d7027f45ab4a29",
       "version_major": 2,
       "version_minor": 0
      },
      "text/plain": [
       "Downloading (…)cial_tokens_map.json:   0%|          | 0.00/772 [00:00<?, ?B/s]"
      ]
     },
     "metadata": {},
     "output_type": "display_data"
    }
   ],
   "source": [
    "from transformers import AutoModelForQuestionAnswering, AutoTokenizer, pipeline\n",
    "\n",
    "model_name = \"deepset/roberta-base-squad2\"\n",
    "\n",
    "# a) Get predictions\n",
    "nlp = pipeline('question-answering', model=model_name, tokenizer=model_name)\n",
    "\n",
    "# # b) Load model & tokenizer\n",
    "# model = AutoModelForQuestionAnswering.from_pretrained(model_name)\n",
    "# tokenizer = AutoTokenizer.from_pretrained(model_name)\n"
   ]
  },
  {
   "cell_type": "code",
   "execution_count": null,
   "metadata": {
    "id": "lPNigbOzDykM"
   },
   "outputs": [],
   "source": [
    "from datasets import Dataset\n",
    "from torch.utils.data import DataLoader"
   ]
  },
  {
   "cell_type": "code",
   "execution_count": null,
   "metadata": {
    "id": "13KAbDamFuNn"
   },
   "outputs": [],
   "source": [
    "def collator(batch):\n",
    "\n",
    "  context = batch['context']\n",
    "  question = batch['question']\n",
    "  ans = batch['ans']\n",
    "\n",
    "\n",
    "  return {'context': context, 'question': question, 'answer': ans}"
   ]
  },
  {
   "cell_type": "code",
   "execution_count": null,
   "metadata": {
    "colab": {
     "base_uri": "https://localhost:8080/",
     "height": 49,
     "referenced_widgets": [
      "e50bb195a9c8492ba6fd8f50423c8a18",
      "0ee3191106304f53b244272da17d371d",
      "c4c5357b0dbe41a3a323d113d54f54a7",
      "0ec598139fc54fe99fe98d7d4030f7d0",
      "fe69996e48314a918f39e3231c42bfae",
      "bad2f1668196434b8b7117916f193355",
      "f1904367c94c43fdb6203d2d8ddf536d",
      "dc5b581c89e046c6996b64539a9f7a77",
      "fcbe17df9a6a4bad9b702adf226def07",
      "33939c9ab39a479a91ab2c870866db40",
      "682a3c0a209f43d68cfeecfc9f62d17e"
     ]
    },
    "executionInfo": {
     "elapsed": 1265,
     "status": "ok",
     "timestamp": 1698092199585,
     "user": {
      "displayName": "Md Zobaer Hossain",
      "userId": "17306798615063951361"
     },
     "user_tz": -120
    },
    "id": "IIF3XG1sIOT3",
    "outputId": "34539c4f-e176-4860-a4c6-189e9b5dae83"
   },
   "outputs": [
    {
     "data": {
      "application/vnd.jupyter.widget-view+json": {
       "model_id": "e50bb195a9c8492ba6fd8f50423c8a18",
       "version_major": 2,
       "version_minor": 0
      },
      "text/plain": [
       "Map (num_proc=4):   0%|          | 0/2572 [00:00<?, ? examples/s]"
      ]
     },
     "metadata": {},
     "output_type": "display_data"
    }
   ],
   "source": [
    "dataset = dataset.map(collator, remove_columns=dataset.column_names, batch_size=8, num_proc=4, batched=True)"
   ]
  },
  {
   "cell_type": "code",
   "execution_count": null,
   "metadata": {
    "id": "7U6GhQU2IWgY"
   },
   "outputs": [],
   "source": [
    "dev_batched = DataLoader(dataset, batch_size=8)"
   ]
  },
  {
   "cell_type": "code",
   "execution_count": null,
   "metadata": {
    "id": "tAjCDCuiKmgX"
   },
   "outputs": [],
   "source": [
    "predictions = []\n",
    "for _, item in df_dev.iterrows():\n",
    "\n",
    "  ans = item['ans']\n",
    "  item = {'question':item['masked headline'],'context':item['context']}\n",
    "  res = nlp(item)\n",
    "  predictions.append((res['answer'],ans))\n",
    "\n"
   ]
  },
  {
   "cell_type": "code",
   "execution_count": null,
   "metadata": {
    "id": "OCEuCq7WL6N0"
   },
   "outputs": [],
   "source": [
    "predictions_only = [p for p,t in predictions]"
   ]
  },
  {
   "cell_type": "code",
   "execution_count": null,
   "metadata": {
    "id": "e9IjeFmgW3in"
   },
   "outputs": [],
   "source": [
    "df_dev['predictions'] = predictions_only"
   ]
  },
  {
   "cell_type": "code",
   "execution_count": null,
   "metadata": {
    "colab": {
     "base_uri": "https://localhost:8080/",
     "height": 293
    },
    "executionInfo": {
     "elapsed": 298,
     "status": "ok",
     "timestamp": 1698095191158,
     "user": {
      "displayName": "Md Zobaer Hossain",
      "userId": "17306798615063951361"
     },
     "user_tz": -120
    },
    "id": "trjq8o17XCxC",
    "outputId": "39233259-151c-4716-c70e-c5f34153d4a7"
   },
   "outputs": [
    {
     "data": {
      "text/html": [
       "\n",
       "  <div id=\"df-abfd8d47-4dfb-4067-a67b-fcc6af4900bb\" class=\"colab-df-container\">\n",
       "    <div>\n",
       "<style scoped>\n",
       "    .dataframe tbody tr th:only-of-type {\n",
       "        vertical-align: middle;\n",
       "    }\n",
       "\n",
       "    .dataframe tbody tr th {\n",
       "        vertical-align: top;\n",
       "    }\n",
       "\n",
       "    .dataframe thead th {\n",
       "        text-align: right;\n",
       "    }\n",
       "</style>\n",
       "<table border=\"1\" class=\"dataframe\">\n",
       "  <thead>\n",
       "    <tr style=\"text-align: right;\">\n",
       "      <th></th>\n",
       "      <th>news</th>\n",
       "      <th>masked headline</th>\n",
       "      <th>calculation</th>\n",
       "      <th>ans</th>\n",
       "      <th>context</th>\n",
       "      <th>question</th>\n",
       "      <th>predictions</th>\n",
       "    </tr>\n",
       "  </thead>\n",
       "  <tbody>\n",
       "    <tr>\n",
       "      <th>0</th>\n",
       "      <td>(Oct 5, 2011  12:11 PM CDT) Police are still h...</td>\n",
       "      <td>____rd Victim Dead in Quarry Shooting; Manhunt...</td>\n",
       "      <td>Trans(three)</td>\n",
       "      <td>b'3'</td>\n",
       "      <td>Police are still hunting for an  armed and dan...</td>\n",
       "      <td>rd Victim Dead in Quarry Shooting; Manhunt Sti...</td>\n",
       "      <td>three</td>\n",
       "    </tr>\n",
       "    <tr>\n",
       "      <th>1</th>\n",
       "      <td>(Mar 4, 2014  11:30 AM) The New York Times fol...</td>\n",
       "      <td>NYT Corrects 1853 Piece After ____ Years Win</td>\n",
       "      <td>Copy(12)</td>\n",
       "      <td>b'12'</td>\n",
       "      <td>The New York Times followed the Best Picture w...</td>\n",
       "      <td>NYT Corrects 1853 Piece After  Years Win</td>\n",
       "      <td>—just 161 years late</td>\n",
       "    </tr>\n",
       "    <tr>\n",
       "      <th>2</th>\n",
       "      <td>(Nov 4, 2008  3:19 PM) Stocks rallied on Elect...</td>\n",
       "      <td>Stocks Up ____ in Election Rally</td>\n",
       "      <td>Round(305.45,0)</td>\n",
       "      <td>b'305'</td>\n",
       "      <td>Stocks rallied on Election Day as investors ap...</td>\n",
       "      <td>Stocks Up  in Election Rally</td>\n",
       "      <td>investors applauded the looming conclusion to ...</td>\n",
       "    </tr>\n",
       "    <tr>\n",
       "      <th>3</th>\n",
       "      <td>(Dec 24, 2014  11:19 AM) Turns out you won't e...</td>\n",
       "      <td>You Can Watch The Interview at ____pm</td>\n",
       "      <td>Copy(1)</td>\n",
       "      <td>b'1'</td>\n",
       "      <td>Turns out you won't even have to leave your ho...</td>\n",
       "      <td>You Can Watch The Interview at pm</td>\n",
       "      <td>1pm</td>\n",
       "    </tr>\n",
       "    <tr>\n",
       "      <th>4</th>\n",
       "      <td>(Oct 16, 2014  3:02 AM CDT) Tristen Kurilla, t...</td>\n",
       "      <td>Murder Suspect, ____, Will Stay in Adult Jail</td>\n",
       "      <td>Copy(10)</td>\n",
       "      <td>b'10'</td>\n",
       "      <td>Tristen Kurilla, the Pennsylvania 10-year-old ...</td>\n",
       "      <td>Murder Suspect, , Will Stay in Adult Jail</td>\n",
       "      <td>Tristen Kurilla</td>\n",
       "    </tr>\n",
       "  </tbody>\n",
       "</table>\n",
       "</div>\n",
       "    <div class=\"colab-df-buttons\">\n",
       "\n",
       "  <div class=\"colab-df-container\">\n",
       "    <button class=\"colab-df-convert\" onclick=\"convertToInteractive('df-abfd8d47-4dfb-4067-a67b-fcc6af4900bb')\"\n",
       "            title=\"Convert this dataframe to an interactive table.\"\n",
       "            style=\"display:none;\">\n",
       "\n",
       "  <svg xmlns=\"http://www.w3.org/2000/svg\" height=\"24px\" viewBox=\"0 -960 960 960\">\n",
       "    <path d=\"M120-120v-720h720v720H120Zm60-500h600v-160H180v160Zm220 220h160v-160H400v160Zm0 220h160v-160H400v160ZM180-400h160v-160H180v160Zm440 0h160v-160H620v160ZM180-180h160v-160H180v160Zm440 0h160v-160H620v160Z\"/>\n",
       "  </svg>\n",
       "    </button>\n",
       "\n",
       "  <style>\n",
       "    .colab-df-container {\n",
       "      display:flex;\n",
       "      gap: 12px;\n",
       "    }\n",
       "\n",
       "    .colab-df-convert {\n",
       "      background-color: #E8F0FE;\n",
       "      border: none;\n",
       "      border-radius: 50%;\n",
       "      cursor: pointer;\n",
       "      display: none;\n",
       "      fill: #1967D2;\n",
       "      height: 32px;\n",
       "      padding: 0 0 0 0;\n",
       "      width: 32px;\n",
       "    }\n",
       "\n",
       "    .colab-df-convert:hover {\n",
       "      background-color: #E2EBFA;\n",
       "      box-shadow: 0px 1px 2px rgba(60, 64, 67, 0.3), 0px 1px 3px 1px rgba(60, 64, 67, 0.15);\n",
       "      fill: #174EA6;\n",
       "    }\n",
       "\n",
       "    .colab-df-buttons div {\n",
       "      margin-bottom: 4px;\n",
       "    }\n",
       "\n",
       "    [theme=dark] .colab-df-convert {\n",
       "      background-color: #3B4455;\n",
       "      fill: #D2E3FC;\n",
       "    }\n",
       "\n",
       "    [theme=dark] .colab-df-convert:hover {\n",
       "      background-color: #434B5C;\n",
       "      box-shadow: 0px 1px 3px 1px rgba(0, 0, 0, 0.15);\n",
       "      filter: drop-shadow(0px 1px 2px rgba(0, 0, 0, 0.3));\n",
       "      fill: #FFFFFF;\n",
       "    }\n",
       "  </style>\n",
       "\n",
       "    <script>\n",
       "      const buttonEl =\n",
       "        document.querySelector('#df-abfd8d47-4dfb-4067-a67b-fcc6af4900bb button.colab-df-convert');\n",
       "      buttonEl.style.display =\n",
       "        google.colab.kernel.accessAllowed ? 'block' : 'none';\n",
       "\n",
       "      async function convertToInteractive(key) {\n",
       "        const element = document.querySelector('#df-abfd8d47-4dfb-4067-a67b-fcc6af4900bb');\n",
       "        const dataTable =\n",
       "          await google.colab.kernel.invokeFunction('convertToInteractive',\n",
       "                                                    [key], {});\n",
       "        if (!dataTable) return;\n",
       "\n",
       "        const docLinkHtml = 'Like what you see? Visit the ' +\n",
       "          '<a target=\"_blank\" href=https://colab.research.google.com/notebooks/data_table.ipynb>data table notebook</a>'\n",
       "          + ' to learn more about interactive tables.';\n",
       "        element.innerHTML = '';\n",
       "        dataTable['output_type'] = 'display_data';\n",
       "        await google.colab.output.renderOutput(dataTable, element);\n",
       "        const docLink = document.createElement('div');\n",
       "        docLink.innerHTML = docLinkHtml;\n",
       "        element.appendChild(docLink);\n",
       "      }\n",
       "    </script>\n",
       "  </div>\n",
       "\n",
       "\n",
       "<div id=\"df-81bb175f-fe8d-49f4-b897-8a0ab00ece04\">\n",
       "  <button class=\"colab-df-quickchart\" onclick=\"quickchart('df-81bb175f-fe8d-49f4-b897-8a0ab00ece04')\"\n",
       "            title=\"Suggest charts.\"\n",
       "            style=\"display:none;\">\n",
       "\n",
       "<svg xmlns=\"http://www.w3.org/2000/svg\" height=\"24px\"viewBox=\"0 0 24 24\"\n",
       "     width=\"24px\">\n",
       "    <g>\n",
       "        <path d=\"M19 3H5c-1.1 0-2 .9-2 2v14c0 1.1.9 2 2 2h14c1.1 0 2-.9 2-2V5c0-1.1-.9-2-2-2zM9 17H7v-7h2v7zm4 0h-2V7h2v10zm4 0h-2v-4h2v4z\"/>\n",
       "    </g>\n",
       "</svg>\n",
       "  </button>\n",
       "\n",
       "<style>\n",
       "  .colab-df-quickchart {\n",
       "      --bg-color: #E8F0FE;\n",
       "      --fill-color: #1967D2;\n",
       "      --hover-bg-color: #E2EBFA;\n",
       "      --hover-fill-color: #174EA6;\n",
       "      --disabled-fill-color: #AAA;\n",
       "      --disabled-bg-color: #DDD;\n",
       "  }\n",
       "\n",
       "  [theme=dark] .colab-df-quickchart {\n",
       "      --bg-color: #3B4455;\n",
       "      --fill-color: #D2E3FC;\n",
       "      --hover-bg-color: #434B5C;\n",
       "      --hover-fill-color: #FFFFFF;\n",
       "      --disabled-bg-color: #3B4455;\n",
       "      --disabled-fill-color: #666;\n",
       "  }\n",
       "\n",
       "  .colab-df-quickchart {\n",
       "    background-color: var(--bg-color);\n",
       "    border: none;\n",
       "    border-radius: 50%;\n",
       "    cursor: pointer;\n",
       "    display: none;\n",
       "    fill: var(--fill-color);\n",
       "    height: 32px;\n",
       "    padding: 0;\n",
       "    width: 32px;\n",
       "  }\n",
       "\n",
       "  .colab-df-quickchart:hover {\n",
       "    background-color: var(--hover-bg-color);\n",
       "    box-shadow: 0 1px 2px rgba(60, 64, 67, 0.3), 0 1px 3px 1px rgba(60, 64, 67, 0.15);\n",
       "    fill: var(--button-hover-fill-color);\n",
       "  }\n",
       "\n",
       "  .colab-df-quickchart-complete:disabled,\n",
       "  .colab-df-quickchart-complete:disabled:hover {\n",
       "    background-color: var(--disabled-bg-color);\n",
       "    fill: var(--disabled-fill-color);\n",
       "    box-shadow: none;\n",
       "  }\n",
       "\n",
       "  .colab-df-spinner {\n",
       "    border: 2px solid var(--fill-color);\n",
       "    border-color: transparent;\n",
       "    border-bottom-color: var(--fill-color);\n",
       "    animation:\n",
       "      spin 1s steps(1) infinite;\n",
       "  }\n",
       "\n",
       "  @keyframes spin {\n",
       "    0% {\n",
       "      border-color: transparent;\n",
       "      border-bottom-color: var(--fill-color);\n",
       "      border-left-color: var(--fill-color);\n",
       "    }\n",
       "    20% {\n",
       "      border-color: transparent;\n",
       "      border-left-color: var(--fill-color);\n",
       "      border-top-color: var(--fill-color);\n",
       "    }\n",
       "    30% {\n",
       "      border-color: transparent;\n",
       "      border-left-color: var(--fill-color);\n",
       "      border-top-color: var(--fill-color);\n",
       "      border-right-color: var(--fill-color);\n",
       "    }\n",
       "    40% {\n",
       "      border-color: transparent;\n",
       "      border-right-color: var(--fill-color);\n",
       "      border-top-color: var(--fill-color);\n",
       "    }\n",
       "    60% {\n",
       "      border-color: transparent;\n",
       "      border-right-color: var(--fill-color);\n",
       "    }\n",
       "    80% {\n",
       "      border-color: transparent;\n",
       "      border-right-color: var(--fill-color);\n",
       "      border-bottom-color: var(--fill-color);\n",
       "    }\n",
       "    90% {\n",
       "      border-color: transparent;\n",
       "      border-bottom-color: var(--fill-color);\n",
       "    }\n",
       "  }\n",
       "</style>\n",
       "\n",
       "  <script>\n",
       "    async function quickchart(key) {\n",
       "      const quickchartButtonEl =\n",
       "        document.querySelector('#' + key + ' button');\n",
       "      quickchartButtonEl.disabled = true;  // To prevent multiple clicks.\n",
       "      quickchartButtonEl.classList.add('colab-df-spinner');\n",
       "      try {\n",
       "        const charts = await google.colab.kernel.invokeFunction(\n",
       "            'suggestCharts', [key], {});\n",
       "      } catch (error) {\n",
       "        console.error('Error during call to suggestCharts:', error);\n",
       "      }\n",
       "      quickchartButtonEl.classList.remove('colab-df-spinner');\n",
       "      quickchartButtonEl.classList.add('colab-df-quickchart-complete');\n",
       "    }\n",
       "    (() => {\n",
       "      let quickchartButtonEl =\n",
       "        document.querySelector('#df-81bb175f-fe8d-49f4-b897-8a0ab00ece04 button');\n",
       "      quickchartButtonEl.style.display =\n",
       "        google.colab.kernel.accessAllowed ? 'block' : 'none';\n",
       "    })();\n",
       "  </script>\n",
       "</div>\n",
       "    </div>\n",
       "  </div>\n"
      ],
      "text/plain": [
       "                                                news  \\\n",
       "0  (Oct 5, 2011  12:11 PM CDT) Police are still h...   \n",
       "1  (Mar 4, 2014  11:30 AM) The New York Times fol...   \n",
       "2  (Nov 4, 2008  3:19 PM) Stocks rallied on Elect...   \n",
       "3  (Dec 24, 2014  11:19 AM) Turns out you won't e...   \n",
       "4  (Oct 16, 2014  3:02 AM CDT) Tristen Kurilla, t...   \n",
       "\n",
       "                                     masked headline      calculation     ans  \\\n",
       "0  ____rd Victim Dead in Quarry Shooting; Manhunt...     Trans(three)    b'3'   \n",
       "1       NYT Corrects 1853 Piece After ____ Years Win         Copy(12)   b'12'   \n",
       "2                   Stocks Up ____ in Election Rally  Round(305.45,0)  b'305'   \n",
       "3              You Can Watch The Interview at ____pm          Copy(1)    b'1'   \n",
       "4      Murder Suspect, ____, Will Stay in Adult Jail         Copy(10)   b'10'   \n",
       "\n",
       "                                             context  \\\n",
       "0  Police are still hunting for an  armed and dan...   \n",
       "1  The New York Times followed the Best Picture w...   \n",
       "2  Stocks rallied on Election Day as investors ap...   \n",
       "3  Turns out you won't even have to leave your ho...   \n",
       "4  Tristen Kurilla, the Pennsylvania 10-year-old ...   \n",
       "\n",
       "                                            question  \\\n",
       "0  rd Victim Dead in Quarry Shooting; Manhunt Sti...   \n",
       "1           NYT Corrects 1853 Piece After  Years Win   \n",
       "2                       Stocks Up  in Election Rally   \n",
       "3                  You Can Watch The Interview at pm   \n",
       "4          Murder Suspect, , Will Stay in Adult Jail   \n",
       "\n",
       "                                         predictions  \n",
       "0                                              three  \n",
       "1                               —just 161 years late  \n",
       "2  investors applauded the looming conclusion to ...  \n",
       "3                                                1pm  \n",
       "4                                    Tristen Kurilla  "
      ]
     },
     "execution_count": 94,
     "metadata": {},
     "output_type": "execute_result"
    }
   ],
   "source": [
    "df_dev.head()"
   ]
  },
  {
   "cell_type": "code",
   "execution_count": null,
   "metadata": {
    "id": "BdLt6RZkXFAS"
   },
   "outputs": [],
   "source": [
    "df_dev.to_csv('predictions-trial.csv',index=False)"
   ]
  },
  {
   "cell_type": "code",
   "execution_count": 55,
   "metadata": {
    "executionInfo": {
     "elapsed": 536,
     "status": "ok",
     "timestamp": 1698178853807,
     "user": {
      "displayName": "Md Zobaer Hossain",
      "userId": "17306798615063951361"
     },
     "user_tz": -120
    },
    "id": "u5pHoFB7XlRK"
   },
   "outputs": [],
   "source": [
    "predictions = pd.read_csv('predictions-trial.csv')\n",
    "predictions['predictions'] = predictions['predictions'].fillna(\"0\")"
   ]
  },
  {
   "cell_type": "code",
   "execution_count": 98,
   "metadata": {
    "executionInfo": {
     "elapsed": 8,
     "status": "ok",
     "timestamp": 1698180072430,
     "user": {
      "displayName": "Md Zobaer Hossain",
      "userId": "17306798615063951361"
     },
     "user_tz": -120
    },
    "id": "INpCcNApVEhT"
   },
   "outputs": [],
   "source": [
    "def text_to_digit(text):\n",
    "    # Define a dictionary to map textual representations to digits\n",
    "    text_to_digit_map = {\n",
    "        \"zero\": 0,\n",
    "        \"one\": 1,\n",
    "        \"two\": 2,\n",
    "        \"three\": 3,\n",
    "        \"four\": 4,\n",
    "        \"five\": 5,\n",
    "        \"six\": 6,\n",
    "        \"seven\": 7,\n",
    "        \"eight\": 8,\n",
    "        \"nine\": 9,\n",
    "        \"third\": 3,\n",
    "        \"second\": 2,\n",
    "    }\n",
    "\n",
    "    # Split the input text into words\n",
    "    words = text.split()\n",
    "\n",
    "    # Initialize an empty list to store the converted digits\n",
    "    digits = []\n",
    "\n",
    "    # Iterate through the words and convert them to digits\n",
    "    for word in words:\n",
    "        # Use the dictionary to look up the digit, or keep the word as is\n",
    "        digit = text_to_digit_map.get(word.lower(), word)\n",
    "        digits.append(str(digit))  # Convert to string for consistency\n",
    "\n",
    "    # Join the converted words/digits back into a string\n",
    "    converted_text = \" \".join(digits)\n",
    "\n",
    "    return converted_text\n",
    "\n",
    "\n",
    "\n",
    "def clean(sentence):\n",
    "\n",
    "  sentence = text_to_digit(sentence)\n",
    "  match = re.search(r'\\d+\\.\\d+|\\d+', sentence)\n",
    "\n",
    "  # Check if a digit was found and extract it\n",
    "  if match:\n",
    "      first_digit = float(match.group())\n",
    "      if first_digit==round(first_digit):\n",
    "        first_digit = int(first_digit)\n",
    "      return str(first_digit)\n",
    "  else:\n",
    "      return sentence"
   ]
  },
  {
   "cell_type": "code",
   "execution_count": 99,
   "metadata": {
    "executionInfo": {
     "elapsed": 6,
     "status": "ok",
     "timestamp": 1698180072431,
     "user": {
      "displayName": "Md Zobaer Hossain",
      "userId": "17306798615063951361"
     },
     "user_tz": -120
    },
    "id": "PAXU-PEDRyzq"
   },
   "outputs": [],
   "source": [
    "predictions['ans'] = predictions['ans'].apply(lambda x: x.replace(\"b'\",''))\n",
    "predictions['ans'] = predictions['ans'].apply(lambda x: x.replace(\"'\",''))\n",
    "predictions['predictions-clean'] = predictions['predictions'].apply(lambda x: clean(x))"
   ]
  },
  {
   "cell_type": "code",
   "execution_count": 100,
   "metadata": {
    "executionInfo": {
     "elapsed": 230,
     "status": "ok",
     "timestamp": 1698180073950,
     "user": {
      "displayName": "Md Zobaer Hossain",
      "userId": "17306798615063951361"
     },
     "user_tz": -120
    },
    "id": "ROe67FinR4J1"
   },
   "outputs": [],
   "source": [
    "df = predictions[['ans', 'predictions','predictions-clean']]"
   ]
  },
  {
   "cell_type": "code",
   "execution_count": 101,
   "metadata": {
    "executionInfo": {
     "elapsed": 2,
     "status": "ok",
     "timestamp": 1698180074829,
     "user": {
      "displayName": "Md Zobaer Hossain",
      "userId": "17306798615063951361"
     },
     "user_tz": -120
    },
    "id": "Amo2L1TwR_HH"
   },
   "outputs": [],
   "source": [
    "match = df[df['ans']==df['predictions-clean']]"
   ]
  },
  {
   "cell_type": "code",
   "execution_count": 102,
   "metadata": {
    "colab": {
     "base_uri": "https://localhost:8080/"
    },
    "executionInfo": {
     "elapsed": 8,
     "status": "ok",
     "timestamp": 1698180075563,
     "user": {
      "displayName": "Md Zobaer Hossain",
      "userId": "17306798615063951361"
     },
     "user_tz": -120
    },
    "id": "9kPaIeOnTNIH",
    "outputId": "72075dcc-0496-48aa-c09b-187b0fd10a80"
   },
   "outputs": [
    {
     "data": {
      "text/plain": [
       "0.4630637636080871"
      ]
     },
     "execution_count": 102,
     "metadata": {},
     "output_type": "execute_result"
    }
   ],
   "source": [
    "match.shape[0]/df_dev.shape[0]"
   ]
  },
  {
   "cell_type": "code",
   "execution_count": 103,
   "metadata": {
    "colab": {
     "base_uri": "https://localhost:8080/",
     "height": 424
    },
    "executionInfo": {
     "elapsed": 334,
     "status": "ok",
     "timestamp": 1698180082196,
     "user": {
      "displayName": "Md Zobaer Hossain",
      "userId": "17306798615063951361"
     },
     "user_tz": -120
    },
    "id": "HN6aey9HTZEI",
    "outputId": "4eebaeef-af2e-48d5-f83c-24300f51a7c5"
   },
   "outputs": [
    {
     "data": {
      "text/html": [
       "\n",
       "  <div id=\"df-bebdeb2b-bc33-4e1c-b931-58636b3150f0\" class=\"colab-df-container\">\n",
       "    <div>\n",
       "<style scoped>\n",
       "    .dataframe tbody tr th:only-of-type {\n",
       "        vertical-align: middle;\n",
       "    }\n",
       "\n",
       "    .dataframe tbody tr th {\n",
       "        vertical-align: top;\n",
       "    }\n",
       "\n",
       "    .dataframe thead th {\n",
       "        text-align: right;\n",
       "    }\n",
       "</style>\n",
       "<table border=\"1\" class=\"dataframe\">\n",
       "  <thead>\n",
       "    <tr style=\"text-align: right;\">\n",
       "      <th></th>\n",
       "      <th>ans</th>\n",
       "      <th>predictions</th>\n",
       "      <th>predictions-clean</th>\n",
       "    </tr>\n",
       "  </thead>\n",
       "  <tbody>\n",
       "    <tr>\n",
       "      <th>0</th>\n",
       "      <td>3</td>\n",
       "      <td>three</td>\n",
       "      <td>3</td>\n",
       "    </tr>\n",
       "    <tr>\n",
       "      <th>1</th>\n",
       "      <td>12</td>\n",
       "      <td>—just 161 years late</td>\n",
       "      <td>161</td>\n",
       "    </tr>\n",
       "    <tr>\n",
       "      <th>2</th>\n",
       "      <td>305</td>\n",
       "      <td>investors applauded the looming conclusion to ...</td>\n",
       "      <td>investors applauded the looming conclusion to ...</td>\n",
       "    </tr>\n",
       "    <tr>\n",
       "      <th>3</th>\n",
       "      <td>1</td>\n",
       "      <td>1pm</td>\n",
       "      <td>1</td>\n",
       "    </tr>\n",
       "    <tr>\n",
       "      <th>4</th>\n",
       "      <td>10</td>\n",
       "      <td>Tristen Kurilla</td>\n",
       "      <td>Tristen Kurilla</td>\n",
       "    </tr>\n",
       "    <tr>\n",
       "      <th>...</th>\n",
       "      <td>...</td>\n",
       "      <td>...</td>\n",
       "      <td>...</td>\n",
       "    </tr>\n",
       "    <tr>\n",
       "      <th>2567</th>\n",
       "      <td>94</td>\n",
       "      <td>Fred Beckey</td>\n",
       "      <td>Fred Beckey</td>\n",
       "    </tr>\n",
       "    <tr>\n",
       "      <th>2568</th>\n",
       "      <td>18</td>\n",
       "      <td>18th</td>\n",
       "      <td>18</td>\n",
       "    </tr>\n",
       "    <tr>\n",
       "      <th>2569</th>\n",
       "      <td>15</td>\n",
       "      <td>15</td>\n",
       "      <td>15</td>\n",
       "    </tr>\n",
       "    <tr>\n",
       "      <th>2570</th>\n",
       "      <td>3</td>\n",
       "      <td>Wissam Al Mana</td>\n",
       "      <td>Wissam Al Mana</td>\n",
       "    </tr>\n",
       "    <tr>\n",
       "      <th>2571</th>\n",
       "      <td>3</td>\n",
       "      <td>at least three peacekeepers from Niger and one...</td>\n",
       "      <td>3</td>\n",
       "    </tr>\n",
       "  </tbody>\n",
       "</table>\n",
       "<p>2572 rows × 3 columns</p>\n",
       "</div>\n",
       "    <div class=\"colab-df-buttons\">\n",
       "\n",
       "  <div class=\"colab-df-container\">\n",
       "    <button class=\"colab-df-convert\" onclick=\"convertToInteractive('df-bebdeb2b-bc33-4e1c-b931-58636b3150f0')\"\n",
       "            title=\"Convert this dataframe to an interactive table.\"\n",
       "            style=\"display:none;\">\n",
       "\n",
       "  <svg xmlns=\"http://www.w3.org/2000/svg\" height=\"24px\" viewBox=\"0 -960 960 960\">\n",
       "    <path d=\"M120-120v-720h720v720H120Zm60-500h600v-160H180v160Zm220 220h160v-160H400v160Zm0 220h160v-160H400v160ZM180-400h160v-160H180v160Zm440 0h160v-160H620v160ZM180-180h160v-160H180v160Zm440 0h160v-160H620v160Z\"/>\n",
       "  </svg>\n",
       "    </button>\n",
       "\n",
       "  <style>\n",
       "    .colab-df-container {\n",
       "      display:flex;\n",
       "      gap: 12px;\n",
       "    }\n",
       "\n",
       "    .colab-df-convert {\n",
       "      background-color: #E8F0FE;\n",
       "      border: none;\n",
       "      border-radius: 50%;\n",
       "      cursor: pointer;\n",
       "      display: none;\n",
       "      fill: #1967D2;\n",
       "      height: 32px;\n",
       "      padding: 0 0 0 0;\n",
       "      width: 32px;\n",
       "    }\n",
       "\n",
       "    .colab-df-convert:hover {\n",
       "      background-color: #E2EBFA;\n",
       "      box-shadow: 0px 1px 2px rgba(60, 64, 67, 0.3), 0px 1px 3px 1px rgba(60, 64, 67, 0.15);\n",
       "      fill: #174EA6;\n",
       "    }\n",
       "\n",
       "    .colab-df-buttons div {\n",
       "      margin-bottom: 4px;\n",
       "    }\n",
       "\n",
       "    [theme=dark] .colab-df-convert {\n",
       "      background-color: #3B4455;\n",
       "      fill: #D2E3FC;\n",
       "    }\n",
       "\n",
       "    [theme=dark] .colab-df-convert:hover {\n",
       "      background-color: #434B5C;\n",
       "      box-shadow: 0px 1px 3px 1px rgba(0, 0, 0, 0.15);\n",
       "      filter: drop-shadow(0px 1px 2px rgba(0, 0, 0, 0.3));\n",
       "      fill: #FFFFFF;\n",
       "    }\n",
       "  </style>\n",
       "\n",
       "    <script>\n",
       "      const buttonEl =\n",
       "        document.querySelector('#df-bebdeb2b-bc33-4e1c-b931-58636b3150f0 button.colab-df-convert');\n",
       "      buttonEl.style.display =\n",
       "        google.colab.kernel.accessAllowed ? 'block' : 'none';\n",
       "\n",
       "      async function convertToInteractive(key) {\n",
       "        const element = document.querySelector('#df-bebdeb2b-bc33-4e1c-b931-58636b3150f0');\n",
       "        const dataTable =\n",
       "          await google.colab.kernel.invokeFunction('convertToInteractive',\n",
       "                                                    [key], {});\n",
       "        if (!dataTable) return;\n",
       "\n",
       "        const docLinkHtml = 'Like what you see? Visit the ' +\n",
       "          '<a target=\"_blank\" href=https://colab.research.google.com/notebooks/data_table.ipynb>data table notebook</a>'\n",
       "          + ' to learn more about interactive tables.';\n",
       "        element.innerHTML = '';\n",
       "        dataTable['output_type'] = 'display_data';\n",
       "        await google.colab.output.renderOutput(dataTable, element);\n",
       "        const docLink = document.createElement('div');\n",
       "        docLink.innerHTML = docLinkHtml;\n",
       "        element.appendChild(docLink);\n",
       "      }\n",
       "    </script>\n",
       "  </div>\n",
       "\n",
       "\n",
       "<div id=\"df-d36e33dd-eac9-490d-a56b-752cb7a6a34c\">\n",
       "  <button class=\"colab-df-quickchart\" onclick=\"quickchart('df-d36e33dd-eac9-490d-a56b-752cb7a6a34c')\"\n",
       "            title=\"Suggest charts.\"\n",
       "            style=\"display:none;\">\n",
       "\n",
       "<svg xmlns=\"http://www.w3.org/2000/svg\" height=\"24px\"viewBox=\"0 0 24 24\"\n",
       "     width=\"24px\">\n",
       "    <g>\n",
       "        <path d=\"M19 3H5c-1.1 0-2 .9-2 2v14c0 1.1.9 2 2 2h14c1.1 0 2-.9 2-2V5c0-1.1-.9-2-2-2zM9 17H7v-7h2v7zm4 0h-2V7h2v10zm4 0h-2v-4h2v4z\"/>\n",
       "    </g>\n",
       "</svg>\n",
       "  </button>\n",
       "\n",
       "<style>\n",
       "  .colab-df-quickchart {\n",
       "      --bg-color: #E8F0FE;\n",
       "      --fill-color: #1967D2;\n",
       "      --hover-bg-color: #E2EBFA;\n",
       "      --hover-fill-color: #174EA6;\n",
       "      --disabled-fill-color: #AAA;\n",
       "      --disabled-bg-color: #DDD;\n",
       "  }\n",
       "\n",
       "  [theme=dark] .colab-df-quickchart {\n",
       "      --bg-color: #3B4455;\n",
       "      --fill-color: #D2E3FC;\n",
       "      --hover-bg-color: #434B5C;\n",
       "      --hover-fill-color: #FFFFFF;\n",
       "      --disabled-bg-color: #3B4455;\n",
       "      --disabled-fill-color: #666;\n",
       "  }\n",
       "\n",
       "  .colab-df-quickchart {\n",
       "    background-color: var(--bg-color);\n",
       "    border: none;\n",
       "    border-radius: 50%;\n",
       "    cursor: pointer;\n",
       "    display: none;\n",
       "    fill: var(--fill-color);\n",
       "    height: 32px;\n",
       "    padding: 0;\n",
       "    width: 32px;\n",
       "  }\n",
       "\n",
       "  .colab-df-quickchart:hover {\n",
       "    background-color: var(--hover-bg-color);\n",
       "    box-shadow: 0 1px 2px rgba(60, 64, 67, 0.3), 0 1px 3px 1px rgba(60, 64, 67, 0.15);\n",
       "    fill: var(--button-hover-fill-color);\n",
       "  }\n",
       "\n",
       "  .colab-df-quickchart-complete:disabled,\n",
       "  .colab-df-quickchart-complete:disabled:hover {\n",
       "    background-color: var(--disabled-bg-color);\n",
       "    fill: var(--disabled-fill-color);\n",
       "    box-shadow: none;\n",
       "  }\n",
       "\n",
       "  .colab-df-spinner {\n",
       "    border: 2px solid var(--fill-color);\n",
       "    border-color: transparent;\n",
       "    border-bottom-color: var(--fill-color);\n",
       "    animation:\n",
       "      spin 1s steps(1) infinite;\n",
       "  }\n",
       "\n",
       "  @keyframes spin {\n",
       "    0% {\n",
       "      border-color: transparent;\n",
       "      border-bottom-color: var(--fill-color);\n",
       "      border-left-color: var(--fill-color);\n",
       "    }\n",
       "    20% {\n",
       "      border-color: transparent;\n",
       "      border-left-color: var(--fill-color);\n",
       "      border-top-color: var(--fill-color);\n",
       "    }\n",
       "    30% {\n",
       "      border-color: transparent;\n",
       "      border-left-color: var(--fill-color);\n",
       "      border-top-color: var(--fill-color);\n",
       "      border-right-color: var(--fill-color);\n",
       "    }\n",
       "    40% {\n",
       "      border-color: transparent;\n",
       "      border-right-color: var(--fill-color);\n",
       "      border-top-color: var(--fill-color);\n",
       "    }\n",
       "    60% {\n",
       "      border-color: transparent;\n",
       "      border-right-color: var(--fill-color);\n",
       "    }\n",
       "    80% {\n",
       "      border-color: transparent;\n",
       "      border-right-color: var(--fill-color);\n",
       "      border-bottom-color: var(--fill-color);\n",
       "    }\n",
       "    90% {\n",
       "      border-color: transparent;\n",
       "      border-bottom-color: var(--fill-color);\n",
       "    }\n",
       "  }\n",
       "</style>\n",
       "\n",
       "  <script>\n",
       "    async function quickchart(key) {\n",
       "      const quickchartButtonEl =\n",
       "        document.querySelector('#' + key + ' button');\n",
       "      quickchartButtonEl.disabled = true;  // To prevent multiple clicks.\n",
       "      quickchartButtonEl.classList.add('colab-df-spinner');\n",
       "      try {\n",
       "        const charts = await google.colab.kernel.invokeFunction(\n",
       "            'suggestCharts', [key], {});\n",
       "      } catch (error) {\n",
       "        console.error('Error during call to suggestCharts:', error);\n",
       "      }\n",
       "      quickchartButtonEl.classList.remove('colab-df-spinner');\n",
       "      quickchartButtonEl.classList.add('colab-df-quickchart-complete');\n",
       "    }\n",
       "    (() => {\n",
       "      let quickchartButtonEl =\n",
       "        document.querySelector('#df-d36e33dd-eac9-490d-a56b-752cb7a6a34c button');\n",
       "      quickchartButtonEl.style.display =\n",
       "        google.colab.kernel.accessAllowed ? 'block' : 'none';\n",
       "    })();\n",
       "  </script>\n",
       "</div>\n",
       "    </div>\n",
       "  </div>\n"
      ],
      "text/plain": [
       "      ans                                        predictions  \\\n",
       "0       3                                              three   \n",
       "1      12                               —just 161 years late   \n",
       "2     305  investors applauded the looming conclusion to ...   \n",
       "3       1                                                1pm   \n",
       "4      10                                    Tristen Kurilla   \n",
       "...   ...                                                ...   \n",
       "2567   94                                        Fred Beckey   \n",
       "2568   18                                               18th   \n",
       "2569   15                                                 15   \n",
       "2570    3                                     Wissam Al Mana   \n",
       "2571    3  at least three peacekeepers from Niger and one...   \n",
       "\n",
       "                                      predictions-clean  \n",
       "0                                                     3  \n",
       "1                                                   161  \n",
       "2     investors applauded the looming conclusion to ...  \n",
       "3                                                     1  \n",
       "4                                       Tristen Kurilla  \n",
       "...                                                 ...  \n",
       "2567                                        Fred Beckey  \n",
       "2568                                                 18  \n",
       "2569                                                 15  \n",
       "2570                                     Wissam Al Mana  \n",
       "2571                                                  3  \n",
       "\n",
       "[2572 rows x 3 columns]"
      ]
     },
     "execution_count": 103,
     "metadata": {},
     "output_type": "execute_result"
    }
   ],
   "source": [
    "df"
   ]
  },
  {
   "cell_type": "code",
   "execution_count": null,
   "metadata": {
    "id": "IJVD0jAXWlp0"
   },
   "outputs": [],
   "source": [
    ".to_csv('predictions-trial.csv',index=False)"
   ]
  }
 ],
 "metadata": {
  "colab": {
   "authorship_tag": "ABX9TyOlATzO2O1TThPToq69Im9G",
   "provenance": []
  },
  "kernelspec": {
   "display_name": "Python 3",
   "name": "python3"
  },
  "language_info": {
   "name": "python"
  }
 },
 "nbformat": 4,
 "nbformat_minor": 0
}
