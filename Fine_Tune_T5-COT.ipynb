{
 "cells": [
  {
   "cell_type": "code",
   "execution_count": 1,
   "metadata": {
    "id": "03y6_eBDWPYC"
   },
   "outputs": [
    {
     "name": "stderr",
     "output_type": "stream",
     "text": [
      "2023-11-13 11:27:04.513172: W tensorflow/compiler/tf2tensorrt/utils/py_utils.cc:38] TF-TRT Warning: Could not find TensorRT\n"
     ]
    }
   ],
   "source": [
    "import pandas as pd\n",
    "import os\n",
    "import json\n",
    "import re\n",
    "from datasets import Dataset\n",
    "from torch.utils.data import DataLoader\n",
    "\n",
    "from transformers import T5ForConditionalGeneration, T5Tokenizer, MT5ForConditionalGeneration, MT5Tokenizer\n",
    "from transformers import Seq2SeqTrainingArguments\n",
    "from transformers import DataCollatorForSeq2Seq\n",
    "from transformers import Seq2SeqTrainer\n",
    "os.environ['WANDB_SILENT']=\"true\"\n",
    "os.environ[\"WANDB_DISABLED\"] = \"true\""
   ]
  },
  {
   "cell_type": "code",
   "execution_count": 2,
   "metadata": {
    "colab": {
     "base_uri": "https://localhost:8080/"
    },
    "id": "rRARV50sWsP1",
    "outputId": "c46a2441-9bf8-42dd-ae0a-fc85655f7026"
   },
   "outputs": [],
   "source": [
    "# cd /content/drive/MyDrive/Shared-Tasks/Num-Eval"
   ]
  },
  {
   "cell_type": "code",
   "execution_count": 3,
   "metadata": {
    "colab": {
     "base_uri": "https://localhost:8080/",
     "height": 241,
     "referenced_widgets": [
      "749f947d05f64733abf84bbe5731f417",
      "5bda8a8c0c34458c8d343b75cc834b23",
      "3e31cbf56ec046848d4e3815388c7df4",
      "b4901290f27849928af87c598a0eea9d",
      "aff4245eb0484d108899417ae1dfd7ba",
      "f21caa19bfa4419b801c48db2730a951",
      "19461f3b557c4277a91318a189339ae1",
      "3c51d6a48b654b41a41efad1e9e9397e",
      "e7bd3d9cb3ce42d8aeb808aae6ddded8",
      "ccb9f534c15d4ce896b84901a77967bd",
      "fd1e8acc9d024acdbe4b1be49cf316dd",
      "0ef0230852674dffab626602d80f27c4",
      "fb8f9a97100f4ae68f88b1548708fec5",
      "cd35bda957eb4d07958c4898709fb4d0",
      "219db8f961574cda8e1807d5a4f513a3",
      "91bd10dca0804914ae357f2c3f902133",
      "7172ffea45ab4cc6abd5c20ac21a2984",
      "fb2bc3de10034101857f182bc53bf5b9",
      "5deee606a6564aa2849bb2d102a88539",
      "d7ff064e24c8450db1b6084a3ec742ab",
      "fcf55a7befe041768a63096b27d55a97",
      "4d552a3936b44915bf06e8b009b509e1",
      "d8872bb52e6e48658a8eefe033e76631",
      "74110fc6e83f4db988c685993c5a8e2a",
      "dfc341e7cb39494fac9ab29fbceb496d",
      "82c176ef0e4f4ee9983320099bb90111",
      "9d1c40e0b652470c8eee7db885f52d9c",
      "4b3e9c526ae24bac8fc0a41de7797825",
      "de631d3725c344e788b1bc38b7c69ed6",
      "3b57b120569e435ca3b06d504b127e95",
      "126eef6fed45405796f8a495830c44ea",
      "8292559b947547598c360856da4258e9",
      "4a7d9191ba804f9c99a28036139aca60",
      "ada8a2a393e84dbf87a430acfacb0c40",
      "eacdec0152424de0843ac513bac84f2e",
      "5739c4d9826942e082b232ff8e8153eb",
      "8f85bca868df42648f987fbb9f675319",
      "12eea03dd68e40888dfb6616fdfb10b7",
      "4899283ab11646d3ba2b1b950ddb651f",
      "dac8823a9d0e4404b12aeb3f58f0f5f6",
      "8930fa539f304ec48a214609d6e274de",
      "b3c3b9a1a2aa4cc99c9b52a35d2b5417",
      "e6e6012f66b645c0a7293623c3d1efe5",
      "f21825d6b4ca492e9ed8ce91b6701601",
      "e6edf3ecfe3c4a51ab989f1fe974c0f0",
      "09ae7d87e0ae4cc78ffaf9e5cc2ab6f0",
      "fac9076186f04acb887caf8b8d7438b9",
      "8d71111db4f14b4fbcb9f79f2381a40d",
      "931b13a65619432d9d7f7d2095f1773f",
      "72fb4f55749745b69c1619000e21755d",
      "9babeca0d23a4a68a12c525f59c8c9da",
      "255c0660b3c443ecb1dea2d51d6154a4",
      "9a56a0a41fac4ae8b3f973251a42e22c",
      "3b9a6495bd4d4a6897f8c60aba437cb2",
      "3285e35028c44777a892be8219384cb4",
      "b744ccf057394b058f46c385a8616fa7",
      "49b4e2b86dcd43a39d11cf23ab647cbb",
      "3347fc00b5c04e5eb64a9332aa8bb6b5",
      "ffca9f5a4a604c0d980c104cd22d2318",
      "0627aa95571f41bab3bab1b9a8bbcf0e",
      "684235fe5b4f4084b665e2afef447acd",
      "6978d4d07a554c6199e1284a00ddfae9",
      "5f0a797c892f4e2886884be279e5c5c9",
      "972853322ddb419fa4eb978b12838898",
      "284fab77651e45beac9174fa897360bf",
      "1afc7a5c8ac3403c811effcd19ff4a65",
      "bc705f00f0874b598b2b67243f999404",
      "2f38bf0348b04b9799284a27c4be34d5",
      "83b3ca9aaa57432db9f174e5a26284e3",
      "e67b73495ade49f895baf1455e754da9",
      "574c6f0b6bac4010aaf9caf9cb4fc3dd",
      "434ecc368bb54a8c995266db59322ba0",
      "1b38d85f7d80465d96bc193b3dfd6d4f",
      "01b0a530b76c4c5fa69408e9cf29eaef",
      "75e429062d214f8c96c98f5b757eafea",
      "330c7dcb1663463981a8bed9a7da8cfa",
      "51114015b27c40038d2caddabdc82ed9"
     ]
    },
    "id": "kduOrtFZavnU",
    "outputId": "e34df164-7d89-465d-be1e-7f6af7b67ba9"
   },
   "outputs": [],
   "source": [
    "from transformers import AutoTokenizer, AutoModelForSeq2SeqLM\n",
    "model_id=\"google/flan-t5-small\"\n",
    "tokenizer = AutoTokenizer.from_pretrained(model_id)\n",
    "model = AutoModelForSeq2SeqLM.from_pretrained(model_id)"
   ]
  },
  {
   "cell_type": "code",
   "execution_count": 4,
   "metadata": {},
   "outputs": [],
   "source": [
    "df_train = pd.read_csv('train-cot.csv')\n",
    "df_dev = pd.read_csv('val-cot.csv')"
   ]
  },
  {
   "cell_type": "code",
   "execution_count": 5,
   "metadata": {
    "id": "hRlWbMIGaCzr"
   },
   "outputs": [],
   "source": [
    "train_data = Dataset.from_pandas(df_train)\n",
    "dev_data = Dataset.from_pandas(df_dev)"
   ]
  },
  {
   "cell_type": "code",
   "execution_count": 6,
   "metadata": {
    "id": "uJt_j_TPeAlR"
   },
   "outputs": [],
   "source": [
    "def collator(batch):\n",
    "\n",
    "    input = batch['inputs'] #load original sentences\n",
    "    label = batch['ans_sent'] #load noisy sentences\n",
    "    inputs = tokenizer(input, text_target=label, return_tensors=\"pt\", max_length = 512, padding='max_length',truncation=True) #tokenized sentences\n",
    "\n",
    "    return inputs"
   ]
  },
  {
   "cell_type": "code",
   "execution_count": 7,
   "metadata": {
    "colab": {
     "base_uri": "https://localhost:8080/",
     "height": 113,
     "referenced_widgets": [
      "e5767de890b44adb9beae149a0f58bba",
      "290e1faaeeca4bec9b2294af6026aad9",
      "a774f72e8e7a4c9e90fcc6373d2aca2e",
      "8f0e35a22e0a4b3fadebceabf311f5cf",
      "7ede5ae5c9fe46c3b8ba6f9175380572",
      "6bf8c2afdb514b1dab1b94181f9bb68b",
      "6e3834b741214329bb3f7c0488ce7f60",
      "de21bc9778d64d02b70fb8779071b979",
      "025c3f57d3db403a83c1c36f30d27d29",
      "61b627fc40f547e7a473d873738b54c0",
      "79e49ab8ae6041a996a77dafa592617d",
      "d2cb78cd797a415b87a7ec9480ada435",
      "1c599b15fe4248ab94a72209cf880434",
      "9f513cf43fe442e6b58bf70e8b0eb02d",
      "e0ba429d8bb647608f1555cec7592d7f",
      "32f36696316940d5bf9356b3eb7d9293",
      "fd46d9bd89f7448f9654a91f4debf8a1",
      "f4b503c36ff442ec84ba415fc8c0d81d",
      "78c03ee5cdef4cc0ad12deb4a5441205",
      "38be8e53d7004f1c89553c9162fd7f16",
      "a7c97c94ff774f4785b08fd1e23258fa",
      "a3d2b455f3a94a9b957e19b5ae08f5f9",
      "a958500182ed473ea9167867b98198f8",
      "1961aa48ef36484f9faa7f4d25aa7775",
      "7e72637a6cd540db882f997575ac64a5",
      "786b5bc451ab40f78cd862e94029717d",
      "480fc3f22b9c4dff975eedb3d0f75813",
      "58683439291e4cfaacf39980949085d0",
      "1b752d739e1741a69141e8662fd30228",
      "7eb9dfc15a054bc6aa7af492cda8917f",
      "b56c9c79ffa145cfb6e7ddb9f28271b7",
      "fa1b08f85f89440cbc096feccc8acb69",
      "9f2738ec36f34548b5dd3f3a694d313b"
     ]
    },
    "id": "oE4007INertV",
    "outputId": "253a121b-1f54-41ef-fb4a-b1b1bc9ec3bc"
   },
   "outputs": [
    {
     "data": {
      "application/vnd.jupyter.widget-view+json": {
       "model_id": "",
       "version_major": 2,
       "version_minor": 0
      },
      "text/plain": [
       "Map (num_proc=4):   0%|          | 0/20995 [00:00<?, ? examples/s]"
      ]
     },
     "metadata": {},
     "output_type": "display_data"
    },
    {
     "data": {
      "application/vnd.jupyter.widget-view+json": {
       "model_id": "",
       "version_major": 2,
       "version_minor": 0
      },
      "text/plain": [
       "Map (num_proc=4):   0%|          | 0/1274 [00:00<?, ? examples/s]"
      ]
     },
     "metadata": {},
     "output_type": "display_data"
    }
   ],
   "source": [
    "train_tokenized = train_data.map(collator, remove_columns=train_data.column_names, batch_size=8, num_proc=4, batched=True)\n",
    "dev_tokenized = dev_data.map(collator, remove_columns=dev_data.column_names, batch_size=8, num_proc=4, batched=True)\n"
   ]
  },
  {
   "cell_type": "code",
   "execution_count": 8,
   "metadata": {
    "id": "K09dOulIfB3k"
   },
   "outputs": [],
   "source": [
    "#define evaluation steps based on total dataset size\n",
    "TRAIN_BATCH_SIZE = 2\n",
    "EPOCHS = 5\n",
    "LEARNING_RATE = 5e-5\n",
    "data_size = len(train_tokenized)\n",
    "EVAL_STEPS=int(data_size/(TRAIN_BATCH_SIZE*2))\n",
    "SAVE_STEPS= EVAL_STEPS\n",
    "\n",
    "\n"
   ]
  },
  {
   "cell_type": "code",
   "execution_count": 9,
   "metadata": {
    "id": "j_lLaNsBf8v4"
   },
   "outputs": [
    {
     "name": "stderr",
     "output_type": "stream",
     "text": [
      "Using the `WANDB_DISABLED` environment variable is deprecated and will be removed in v5. Use the --report_to flag to control the integrations used for logging result (for instance --report_to none).\n"
     ]
    }
   ],
   "source": [
    "#define training argument object\n",
    "training_args = Seq2SeqTrainingArguments(\n",
    "  output_dir=\"./Outputs\",\n",
    "  group_by_length=True,\n",
    "  per_device_train_batch_size=TRAIN_BATCH_SIZE,\n",
    "  gradient_accumulation_steps=2,\n",
    "  evaluation_strategy=\"steps\",\n",
    "  num_train_epochs=EPOCHS,\n",
    "  fp16=False,\n",
    "  save_steps=SAVE_STEPS,\n",
    "  eval_steps=EVAL_STEPS,\n",
    "  logging_steps=EVAL_STEPS,\n",
    "  learning_rate=LEARNING_RATE,\n",
    "  warmup_steps=100,\n",
    "  save_total_limit=2,\n",
    ")\n",
    "\n",
    "\n",
    "#define training data collator\n",
    "data_collator = DataCollatorForSeq2Seq(tokenizer, return_tensors='pt')\n",
    "\n",
    "\n",
    "#define Seq2Seq Training object\n",
    "trainer = Seq2SeqTrainer(\n",
    "    model=model.cuda(),\n",
    "    data_collator=data_collator,\n",
    "    args=training_args,\n",
    "    train_dataset=train_tokenized,\n",
    "    eval_dataset=dev_tokenized,\n",
    "    tokenizer=tokenizer\n",
    ")"
   ]
  },
  {
   "cell_type": "code",
   "execution_count": 10,
   "metadata": {
    "colab": {
     "base_uri": "https://localhost:8080/",
     "height": 304
    },
    "id": "wGWVkoeUgMsS",
    "outputId": "240fdad7-2293-4367-f269-def4406420dd"
   },
   "outputs": [
    {
     "name": "stderr",
     "output_type": "stream",
     "text": [
      "/home/hossain/.local/lib/python3.10/site-packages/transformers/optimization.py:391: FutureWarning: This implementation of AdamW is deprecated and will be removed in a future version. Use the PyTorch implementation torch.optim.AdamW instead, or set `no_deprecation_warning=True` to disable this warning\n",
      "  warnings.warn(\n",
      "You're using a T5TokenizerFast tokenizer. Please note that with a fast tokenizer, using the `__call__` method is faster than using a method to encode the text followed by a call to the `pad` method to get a padded encoding.\n"
     ]
    },
    {
     "data": {
      "text/html": [
       "\n",
       "    <div>\n",
       "      \n",
       "      <progress value='26245' max='26245' style='width:300px; height:20px; vertical-align: middle;'></progress>\n",
       "      [26245/26245 3:31:45, Epoch 5/5]\n",
       "    </div>\n",
       "    <table border=\"1\" class=\"dataframe\">\n",
       "  <thead>\n",
       " <tr style=\"text-align: left;\">\n",
       "      <th>Step</th>\n",
       "      <th>Training Loss</th>\n",
       "      <th>Validation Loss</th>\n",
       "    </tr>\n",
       "  </thead>\n",
       "  <tbody>\n",
       "    <tr>\n",
       "      <td>5248</td>\n",
       "      <td>0.641700</td>\n",
       "      <td>0.007098</td>\n",
       "    </tr>\n",
       "    <tr>\n",
       "      <td>10496</td>\n",
       "      <td>0.009400</td>\n",
       "      <td>0.005702</td>\n",
       "    </tr>\n",
       "    <tr>\n",
       "      <td>15744</td>\n",
       "      <td>0.007500</td>\n",
       "      <td>0.005184</td>\n",
       "    </tr>\n",
       "    <tr>\n",
       "      <td>20992</td>\n",
       "      <td>0.006700</td>\n",
       "      <td>0.004896</td>\n",
       "    </tr>\n",
       "    <tr>\n",
       "      <td>26240</td>\n",
       "      <td>0.006200</td>\n",
       "      <td>0.004846</td>\n",
       "    </tr>\n",
       "  </tbody>\n",
       "</table><p>"
      ],
      "text/plain": [
       "<IPython.core.display.HTML object>"
      ]
     },
     "metadata": {},
     "output_type": "display_data"
    },
    {
     "data": {
      "text/plain": [
       "TrainOutput(global_step=26245, training_loss=0.1342715281369312, metrics={'train_runtime': 12706.3733, 'train_samples_per_second': 8.262, 'train_steps_per_second': 2.065, 'total_flos': 1.95138557313024e+16, 'train_loss': 0.1342715281369312, 'epoch': 5.0})"
      ]
     },
     "execution_count": 10,
     "metadata": {},
     "output_type": "execute_result"
    }
   ],
   "source": [
    "os.environ['WANDB_SILENT']=\"true\"\n",
    "trainer.train()"
   ]
  },
  {
   "cell_type": "code",
   "execution_count": 11,
   "metadata": {
    "id": "hYQsy4zYh2zY"
   },
   "outputs": [],
   "source": [
    "outputDir = \"./Outputs\"\n",
    "trainer.save_model(f\"{outputDir}/Trial-COT-20k\")"
   ]
  },
  {
   "cell_type": "markdown",
   "metadata": {},
   "source": [
    "###### "
   ]
  }
 ],
 "metadata": {
  "accelerator": "GPU",
  "colab": {
   "gpuType": "T4",
   "provenance": []
  },
  "kernelspec": {
   "display_name": "Python 3 (ipykernel)",
   "language": "python",
   "name": "python3"
  },
  "language_info": {
   "codemirror_mode": {
    "name": "ipython",
    "version": 3
   },
   "file_extension": ".py",
   "mimetype": "text/x-python",
   "name": "python",
   "nbconvert_exporter": "python",
   "pygments_lexer": "ipython3",
   "version": "3.10.12"
  }
 },
 "nbformat": 4,
 "nbformat_minor": 1
}
